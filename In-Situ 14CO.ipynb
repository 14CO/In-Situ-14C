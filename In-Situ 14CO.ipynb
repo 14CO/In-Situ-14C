{
 "cells": [
  {
   "cell_type": "code",
   "execution_count": 1,
   "id": "81af7dd0",
   "metadata": {},
   "outputs": [],
   "source": [
    "#basic imports and ipython setup\n",
    "import matplotlib.pyplot as plt\n",
    "import numpy as np\n",
    "\n",
    "from abc import ABC\n",
    "\n",
    "import os.path\n",
    "\n",
    "from MCEq.core import MCEqRun\n",
    "import mceq_config as config\n",
    "import crflux.models as pm\n",
    "\n",
    "from tqdm import tqdm\n",
    "\n",
    "from scipy.sparse import find\n",
    "\n",
    "import pandas as pd\n",
    "from MCEq.geometry.density_profiles import GeneralizedTarget\n",
    "\n",
    "import matplotlib as mpl\n",
    "from cycler import cycler\n",
    "from astropy.io import fits\n",
    "\n",
    "import daemonflux"
   ]
  },
  {
   "cell_type": "code",
   "execution_count": 2,
   "id": "fe781132",
   "metadata": {},
   "outputs": [],
   "source": [
    "hdus = fits.open('balco_14co_const_models.fits')"
   ]
  },
  {
   "cell_type": "code",
   "execution_count": 3,
   "id": "ac38511c",
   "metadata": {},
   "outputs": [
    {
     "data": {
      "text/plain": [
       "(0.066, 0.072)"
      ]
     },
     "execution_count": 3,
     "metadata": {},
     "output_type": "execute_result"
    }
   ],
   "source": [
    "hdus['FOFACTOR'].data[68]"
   ]
  },
  {
   "cell_type": "code",
   "execution_count": 4,
   "id": "ed605461",
   "metadata": {},
   "outputs": [
    {
     "data": {
      "text/plain": [
       "[<matplotlib.lines.Line2D at 0x1a7b6a64f40>]"
      ]
     },
     "execution_count": 4,
     "metadata": {},
     "output_type": "execute_result"
    },
    {
     "data": {
      "image/png": "[encoded data removed]",
      "text/plain": [
       "<Figure size 432x288 with 1 Axes>"
      ]
     },
     "metadata": {
      "needs_background": "light"
     },
     "output_type": "display_data"
    }
   ],
   "source": [
    "plt.plot(hdus['DEPTH'].data, hdus['CO14'].data[68])"
   ]
  },
  {
   "cell_type": "markdown",
   "id": "1a656ab8",
   "metadata": {},
   "source": [
    "## Setup Grid Parameters"
   ]
  },
  {
   "cell_type": "code",
   "execution_count": 5,
   "id": "07a50c29",
   "metadata": {},
   "outputs": [],
   "source": [
    "age_scale_file = 'DomeC_age_scale_Apr2023.csv' # relationship between age and depth of ice at Dome-C\n",
    "ice_eq_depth_file = 'Real_vs_ice_eq_depth.csv' # relationship bewteen ice-equivalent-depth and real-depth at Dome-C\n",
    "\n",
    "# read age-scale file\n",
    "age_scale = pd.read_csv(age_scale_file)\n",
    "ages = np.array(age_scale['ages']) # years\n",
    "depths_real = np.array(age_scale['depths_real']) # meters\n",
    "\n",
    "# read ice-eq-depth file\n",
    "ice_eq_depth = pd.read_csv(ice_eq_depth_file)\n",
    "real_z = ice_eq_depth['z'] # meters\n",
    "ice_eq_z = ice_eq_depth['ice_eq_z'] # meters (ice-eq) aka mass-depth / ice density"
   ]
  },
  {
   "cell_type": "code",
   "execution_count": 6,
   "id": "05e49af4",
   "metadata": {},
   "outputs": [],
   "source": [
    "rho_ice = 0.9239 # density of solid ice at Dome C (g/cm^3)\n",
    "\n",
    "def z_to_t(z): # convert real depth to age\n",
    "    return np.interp(z, depths_real, ages)\n",
    "\n",
    "def t_to_z(t): # convert age to real depth\n",
    "    return np.interp(t, ages, depths_real)\n",
    "\n",
    "def z_to_h(z): # convert real depth to mass depth\n",
    "    return np.interp(z, real_z, ice_eq_z)*rho_ice\n",
    "\n",
    "def h_to_z(h): # convert mass depth to real depth\n",
    "    return np.interp(h/rho_ice, ice_eq_z, real_z)\n",
    "\n",
    "def h_to_t(h): # convert mass depth to age\n",
    "    return z_to_t(h_to_z(h/rho_ice))\n",
    "\n",
    "def t_to_h(t): # convert age to mass depth\n",
    "    return z_to_h(t_to_z(t))*rho_ice"
   ]
  },
  {
   "cell_type": "code",
   "execution_count": 7,
   "id": "a3af4980",
   "metadata": {},
   "outputs": [],
   "source": [
    "def argnear_below(x, a): #assuming sorted low -> high\n",
    "    return max(min(int(np.interp(x, a, np.arange(len(a)))), len(a)-1), 0)\n",
    "\n",
    "def argnear_above(x, a): #assuming sorted low -> high\n",
    "    return max(min(int(np.interp(x, a, np.arange(len(a))))+1, len(a)-1), 0)"
   ]
  },
  {
   "cell_type": "markdown",
   "id": "8fcbea61",
   "metadata": {},
   "source": [
    "## Depth"
   ]
  },
  {
   "cell_type": "code",
   "execution_count": 8,
   "id": "5d7a3f33",
   "metadata": {},
   "outputs": [],
   "source": [
    "z_min = 0 # starting depth for plots (m)\n",
    "z_deep = 300 # end depth (m)\n",
    "\n",
    "i_min = argnear_below(z_min, depths_real) # nearest depths_real index to z_min\n",
    "i_end = argnear_above(z_deep, depths_real) # nearest depths_real index to z_end"
   ]
  },
  {
   "cell_type": "code",
   "execution_count": 9,
   "id": "e5c395b6",
   "metadata": {},
   "outputs": [],
   "source": [
    "# Define depth bins\n",
    "z_bins = depths_real[i_min:i_end+1] # depth bin edges in steps of 1-year ice age (m)\n",
    "z = (z_bins[:-1]+z_bins[1:])/2 # bin-average of z (m)\n",
    "dz = np.diff(z_bins) # bin-width of z (m)\n",
    "\n",
    "# Define mass depth bins\n",
    "h_bins = z_to_h(z_bins) # mass depth bin edges corresponding to z bins (m.w.e = hg/cm^2)\n",
    "h = (h_bins[:-1]+h_bins[1:])/2 # bin-average of h (m.w.e = hg/cm^2)\n",
    "dh = np.diff(h_bins) # bin-width of h (m.w.e = hg/cm^2)\n",
    "\n",
    "rho = dh/dz # density of depth bins\n",
    "\n",
    "# Define time bins\n",
    "t_bins = z_to_t(z_bins) # ice age bins corresponding to z array (years)\n",
    "t = (t_bins[:-1]+t_bins[1:])/2 # bin-average of t (years)\n",
    "dt = np.diff(t_bins) # bin-width of t (years)"
   ]
  },
  {
   "cell_type": "markdown",
   "id": "8fc5e4e3",
   "metadata": {},
   "source": [
    "## Sample Range"
   ]
  },
  {
   "cell_type": "code",
   "execution_count": 10,
   "id": "67053281",
   "metadata": {},
   "outputs": [],
   "source": [
    "z_start = 96.5 # starting depth of 14C accumulation (m) - close-off depth beneath firn layer\n",
    "sample_length = 20 # length of ice core samples (m)\n",
    "\n",
    "i_start = argnear_below(z_start, z_bins) # index of first bin beneath starting point for 14C accumulation\n",
    "\n",
    "z_samp_ideal = np.arange(z_bins[i_start],z_bins[-1],sample_length)\n",
    "i_samp = np.append(np.argmin(abs(z_bins.reshape((1,-1))-z_samp_ideal.reshape(-1,1)), axis=1), len(z_bins)-1)\n",
    "i_samp[0] = i_start # just making sure\n",
    "\n",
    "# Define sample depth bins\n",
    "z_samp_bins = z_bins[i_samp] # sample depth bin edges (m)\n",
    "z_samp = (z_samp_bins[:-1]+z_samp_bins[1:])/2 # bin-average of sample depth (m)\n",
    "dz_samp = np.diff(z_samp_bins) # bin-width of sample depth (m)\n",
    "\n",
    "# Define sample compression matrix\n",
    "dh_samp = np.zeros(len(i_samp)-1)\n",
    "S_mat = np.zeros((len(z_bins)-1, len(i_samp)-1))\n",
    "for i in range(len(i_samp)-1):\n",
    "    dh_samp[i] = np.sum(dh[i_samp[i]:i_samp[i+1]])\n",
    "    S_mat[i_samp[i]:i_samp[i+1], i] = dh[i_samp[i]:i_samp[i+1]]/dh_samp[i]"
   ]
  },
  {
   "cell_type": "code",
   "execution_count": 11,
   "id": "48407b28",
   "metadata": {},
   "outputs": [],
   "source": [
    "i_int = np.arange(i_start,len(z))"
   ]
  },
  {
   "cell_type": "markdown",
   "id": "c955cee3",
   "metadata": {},
   "source": [
    "## Zenith Angle"
   ]
  },
  {
   "cell_type": "code",
   "execution_count": 12,
   "id": "e075ba40",
   "metadata": {},
   "outputs": [],
   "source": [
    "N_ang = 10\n",
    "\n",
    "# Define zenith angle bins\n",
    "cosTH_bins = np.linspace(1,0,N_ang+1)\n",
    "cosTH = (cosTH_bins[:-1]+cosTH_bins[1:])/2\n",
    "dcosTH = -np.diff(cosTH_bins)"
   ]
  },
  {
   "cell_type": "markdown",
   "id": "14fb786b",
   "metadata": {},
   "source": [
    "## Energy"
   ]
  },
  {
   "cell_type": "code",
   "execution_count": 13,
   "id": "f70890ac",
   "metadata": {},
   "outputs": [],
   "source": [
    "logE_min = -1 # minimum energy (log10 GeV)\n",
    "logE_max = 11 # maximum energy (log10 GeV)\n",
    "dlogE = 0.1 # energy bin width (log10 GeV)\n",
    "\n",
    "# Define energy bins\n",
    "logE_bins = np.arange(logE_min, logE_max+dlogE, dlogE) # log10 GeV\n",
    "logE = (logE_bins[:-1]+logE_bins[1:])/2 # log10 GeV\n",
    "E_bins = 10.**(logE_bins) # GeV\n",
    "E = 10.**(logE) # bin-average of E (GeV)\n",
    "dE = np.diff(E_bins) # bin-width of E (GeV)\n",
    "\n",
    "# how to average E?  Currently doing geometric mean, but maybe there's a better way."
   ]
  },
  {
   "cell_type": "code",
   "execution_count": 14,
   "id": "f87f34da",
   "metadata": {},
   "outputs": [
    {
     "data": {
      "image/png": "[encoded data removed]",
      "text/plain": [
       "<Figure size 432x360 with 1 Axes>"
      ]
     },
     "metadata": {
      "needs_background": "light"
     },
     "output_type": "display_data"
    },
    {
     "data": {
      "image/png": "[encoded data removed]",
      "text/plain": [
       "<Figure size 432x360 with 1 Axes>"
      ]
     },
     "metadata": {
      "needs_background": "light"
     },
     "output_type": "display_data"
    }
   ],
   "source": [
    "# Plot depth, mass depth, and time\n",
    "fig, ax = plt.subplots(1,1, figsize=(6,5), tight_layout=True)\n",
    "ax.plot(t, z, label='real depth')\n",
    "ax.plot(t, h, label='mass depth')\n",
    "ax.set(xlabel='Time [yrs]',\n",
    "       ylabel='Depth [m]')\n",
    "ax.legend(loc='lower right', fontsize=10)\n",
    "plt.title('Ice Depth by Relative Age')\n",
    "plt.show()\n",
    "\n",
    "# Plot density\n",
    "fig, ax = plt.subplots(1,1, figsize=(6,5), tight_layout=True)\n",
    "ax.plot(z, rho)\n",
    "ax.set(xlabel='Depth [m]',\n",
    "       ylabel='Density [g/cm^3]')\n",
    "#ax.legend(loc='lower right', fontsize=10)\n",
    "plt.title('Ice Density Profile')\n",
    "plt.show()"
   ]
  },
  {
   "cell_type": "markdown",
   "id": "716a154b",
   "metadata": {},
   "source": [
    "## Atmospheric Muon Fits"
   ]
  },
  {
   "cell_type": "code",
   "execution_count": 15,
   "id": "14cf5592",
   "metadata": {},
   "outputs": [],
   "source": [
    "def judge_nash(E0, cosTH):\n",
    "    H_pi = 114 #GeV\n",
    "    H_K = 851 #GeV\n",
    "    gamma_pi = 2.7\n",
    "    gamma_K = gamma_pi\n",
    "    A_pi = 0.28\n",
    "    A_K = 0.0455\n",
    "    y0 = 1000 # Atmosphere depth at sea level? (g/cm^2)\n",
    "    r_pi = 0.76 #muon to parent pion energy ratio\n",
    "    r_K = 0.523 #muon to parent kaon energy ratio\n",
    "    q = 2.2e-3 #mean energy loss of the muon in the atmosphere (GeV cm^2/g)\n",
    "    tau_mu = 2.2e-6 #mean muon lifetime (s)\n",
    "    tau_pi = 2.61e-8 #mean pion lifetime (s)\n",
    "    tau_K = 1.24e-8 #mean kaon lifetime (s)\n",
    "    g = 981.3 #acceleration due to gravity (cm/s^2)\n",
    "    R = 8.314e7 #gas constant (g cm^2/s^2 /K /mol)\n",
    "    m_mu = 105.659e-3 #muon rest mass (GeV/c^2)\n",
    "    m_pi = 139.580e-3 #pion rest mass (GeV/c^2)\n",
    "    m_K = 493.800e-3 #kaon rest mass (GeV/c^2)\n",
    "    c = 3e10 #speed of light (cm/s)\n",
    "    M = 28.966 #effective molecular weight of air (g/mol)\n",
    "    \n",
    "    #effective mean temperature of the atmosphere as experienced at zenith angle theta\n",
    "    T_e = 220 #220 #from Chatzidakis 2015\n",
    "    \n",
    "    H_mu = R*m_mu*T_e / c / M / g / tau_mu\n",
    "    \n",
    "    E_pi = (E0 + q*y0*(1/cosTH - 0.0874))/r_pi\n",
    "    \n",
    "    #H_pi = R*m_pi*c*T_e / M/g/tau_pi\n",
    "    \n",
    "    W_pi = (0.0874 * cosTH * (1- q * (y0/cosTH - 90)/r_pi/E_pi))**(H_mu/cosTH/(r_pi*E_pi+90*q))\n",
    "    \n",
    "    E_K = (E0 + q*y0*(1/cosTH - 0.0874))/r_K\n",
    "    \n",
    "    #H_K = R*m_K*c*T_e / M / g /tau_K\n",
    "    \n",
    "    W_K = (0.0874 * cosTH * (1- q * (y0/cosTH - 0.0874)/r_K/E_K))**(H_mu/cosTH/(r_K*E_K+90*q))\n",
    "    \n",
    "    Phi_J = A_pi*W_pi*E_pi**(-gamma_pi)*H_pi / (E_pi*cosTH + H_pi) + A_K*W_K*E_K**(-gamma_K)*H_K / (E_K*cosTH + H_K)\n",
    "    \n",
    "    return np.nan_to_num(Phi_J)"
   ]
  },
  {
   "cell_type": "code",
   "execution_count": 16,
   "id": "b1753aa6",
   "metadata": {},
   "outputs": [],
   "source": [
    "def bugaev_reyna(E0, cosTH):\n",
    "    A_B = 0.00253\n",
    "    a0 = 0.2455\n",
    "    a1 = 1.288\n",
    "    a2 = -0.2555\n",
    "    a3 = 0.0209\n",
    "    \n",
    "    y = np.log10(E0*cosTH)\n",
    "    \n",
    "    Phi_R = cosTH**3 * A_B * (E0*cosTH)**(-(a3*y**3 + a2*y**2 + a1*y + a0))\n",
    "    \n",
    "    return Phi_R"
   ]
  },
  {
   "cell_type": "code",
   "execution_count": 17,
   "id": "7085c731",
   "metadata": {},
   "outputs": [],
   "source": [
    "def SDC(E0, cosTH):\n",
    "    # Smith & Duller / Chatzidakis\n",
    "    \n",
    "    A = 0.002382 # fitting parameter\n",
    "    r = 0.76 # Ratio of muon energy to pion energy\n",
    "    a = 2.500e-3 # Muon rate of energy loss in air (GeV / (g/cm^2))\n",
    "    y0 = 1000 # Atmosphere depth at sea level (g/cm^2)\n",
    "    gamma = 8/3 # fitting parameter\n",
    "    b_mu = 0.800 # Correction factor related to atmospheric temperature\n",
    "    m_mu = 105.659e-3 # Rest mass of muon (GeV/c^2)\n",
    "    tau_mu0 = 2.2e-6 # Mean lifetime of muon at rest (s)\n",
    "    rho0 = 0.00123 # Density of atmosphere at sea level (g/cm^3)\n",
    "    c = 3e10 # speed of light (cm/s)\n",
    "    lambda_pi = 120 # Absorption mean free path of pions (g/cm^2)\n",
    "    b = 0.771 # coefficient to modify the isothermal atmosphere approximation\n",
    "    tau0 = 2.61e-8 # Mean lifetime of pion at rest (s)\n",
    "    m_pi = 139.580e-3 # Rest mass of pion (GeV/c^2)\n",
    "    j_pi = 148.16 # m_pi * y0 * c / (tau0 * rho0) GeV\n",
    "    \n",
    "    # energy of pion that produced muon\n",
    "    E_pi = (E0 + a*y0*(1/cosTH - 0.100))/r\n",
    "    \n",
    "    B_mu = b_mu * m_mu * y0 / (c * tau_mu0 * rho0)\n",
    "    \n",
    "    # Probability for muons to reach sea level\n",
    "    P_mu = (0.100 * cosTH * (1-a*(y0/cosTH - 100)/(r * E_pi)))**(B_mu / ((r*E_pi + 100*a)*cosTH))\n",
    "    \n",
    "    Phi_S = A * E_pi**(-gamma) * P_mu * lambda_pi * b * j_pi/(E_pi* cosTH + b * j_pi)\n",
    "    \n",
    "    return Phi_S"
   ]
  },
  {
   "cell_type": "code",
   "execution_count": 18,
   "id": "649fac1f",
   "metadata": {},
   "outputs": [],
   "source": [
    "def Prefit_atm(Phi0, fit_func=judge_nash):\n",
    "    # normalize atmospheric muon fit proportional to total primary flux\n",
    "    Phi_mu = fit_func(np.reshape(E,(1,1,-1)), np.reshape(cosTH,(-1,1,1)))\n",
    "    K_mu = 1.268 # +/- 0.008 + 0.002 * E[GeV] (Ratio of Positive : Negative muons)\n",
    "    Phi_mu = Phi_mu * np.reshape([K_mu/(K_mu+1), 1/(K_mu+1)], (1,-1,1))\n",
    "    #axis0 - Zenith Angle\n",
    "    #axis1 - Muon Charge\n",
    "    #axis2 - Muon Energy\n",
    "    \n",
    "    #norm = 1 # make this the total \n",
    "    #rescale = np.sum(Phi0*dE, axis=1)/norm\n",
    "    \n",
    "    # currently skipping rescaling normalization\n",
    "    Phi_mu = np.expand_dims(Phi_mu, (0,-1))\n",
    "    rescale = np.ones((np.shape(Phi0)[0], 1,1,1, np.shape(Phi0)[-1]))\n",
    "    Phi_atm = Phi_mu * rescale\n",
    "    \n",
    "    return Phi_atm"
   ]
  },
  {
   "cell_type": "markdown",
   "id": "f6702860",
   "metadata": {},
   "source": [
    "## Heisinger"
   ]
  },
  {
   "cell_type": "code",
   "execution_count": 19,
   "id": "8f8d90ce",
   "metadata": {},
   "outputs": [],
   "source": [
    "# Is this step calculating the average momentum for a given depth and finding the atmospheric attenuation length\n",
    "# for that momentum?\n",
    "\n",
    "# If Attenuation varies by momentum, shouldn't the energy spectrum change as a result?\n",
    "\n",
    "pressure = 65800 # surface pressure in Pa, should be 65800 for Dome C\n",
    "\n",
    "# figure the difference in atmospheric depth from sea level in g/cm2\n",
    "H = (1013.25 - pressure/100)*1.019716 # the 1.019716 number is basically just 1/g accounting for needed unit conversions\n",
    "\n",
    "# define range/momentum relation\n",
    "# table for muons in standard rock in Groom and others 2001\n",
    "\n",
    "# g/cm^2\n",
    "h_range = np.array([8.516e-1, 1.542e0, 2.866e0, 5.698e0, 9.145e0, 2.676e1, 3.696e1, 5.879e1, 9.332e1, 1.524e2,\n",
    "                    2.115e2, 4.418e2, 5.534e2, 7.712e2, 1.088e3, 1.599e3, 2.095e3, 3.998e3, 4.920e3, 6.724e3,\n",
    "                    9.360e3, 1.362e4, 1.776e4, 3.343e4, 4.084e4, 5.495e4, 7.459e4, 1.040e5, 1.302e5, 2.129e5])\n",
    "\n",
    "# MeV/c\n",
    "momentum = np.array([4.704e1, 5.616e1, 6.802e1, 8.509e1, 1.003e2, 1.527e2, 1.764e2, 2.218e2, 2.868e2, 3.917e2,\n",
    "                     4.945e2, 8.995e2, 1.101e3, 1.502e3, 2.103e3, 3.104e3, 4.104e3, 8.105e3, 1.011e4, 1.411e4,\n",
    "                     2.011e4, 3.011e4, 4.011e4, 8.011e4, 1.001e5, 1.401e5, 2.001e5, 3.001e5, 4.001e5, 8.001e5])\n",
    "\n",
    "def att_L(h):\n",
    "    # effective atmospheric attenuation length for muons at mass depth h\n",
    "    \n",
    "    P_MeVc = np.exp(np.interp(np.log(np.clip(h,1e-5,None)*100), np.log(h_range), np.log(momentum)))\n",
    "    \n",
    "    return 263 + 150 * P_MeVc/1000"
   ]
  },
  {
   "cell_type": "code",
   "execution_count": 20,
   "id": "9950db06",
   "metadata": {},
   "outputs": [],
   "source": [
    "def phi_vert_slhl(h):\n",
    "    \"\"\"Empirical fit to vertical muon flux at sea level, presented in\n",
    "    \n",
    "    B Heisinger et al. “Production of selected cosmogenic radionuclides by muons: 1. Fast muons”.\n",
    "    In: Earth and Planetary Science Letters 200.3 (2002), pp. 345–355. issn: 0012-821X.\n",
    "    doi: https://doi.org/10.1016/S0012-821X(02)00640-4.\n",
    "    \n",
    "    where it was modified from the parameterization in\n",
    "    \n",
    "    A.I. Barbouti, B.C. Rastin, A study of the absolute intensity of muons at sea level and under\n",
    "    various thicknesses of absorber, J. Phys. G 9 (1983) 1577-1595.\n",
    "    \n",
    "    Parameters\n",
    "    -----------\n",
    "    h : float or array of floats\n",
    "        mass depth below surface (hg/cm^2)\n",
    "        \n",
    "    Returns\n",
    "    --------\n",
    "    Phi_v : float or array of floats\n",
    "        Vertical muon flux (cm^-2 s^-1 sr^-1)\n",
    "    \"\"\"\n",
    "    #parameters\n",
    "    p = [258.5,  #p0\n",
    "        -5.5e-4, #p1\n",
    "        210,     #p2\n",
    "        10,      #p3\n",
    "        1.66,    #p4\n",
    "        75]      #p5\n",
    "    \n",
    "    a = np.exp(p[1] * h)\n",
    "    b = h + p[2]\n",
    "    c = (h+p[3])**p[4] + p[5]\n",
    "    \n",
    "    Phi_v = p[0] * a / b / c  # cm^-2 s^-1 sr^-1\n",
    "    \n",
    "    return Phi_v"
   ]
  },
  {
   "cell_type": "code",
   "execution_count": 21,
   "id": "ed8213ac",
   "metadata": {},
   "outputs": [],
   "source": [
    "def R_vert_slhl(h):\n",
    "    \"\"\"Analytic derivative of above vertical muon flux function with respect to mass depth,\n",
    "    derived in\n",
    "    \n",
    "    B Heisinger et al. “Production of selected cosmogenic radionuclides by muons: 1. Fast muons”.\n",
    "    In: Earth and Planetary Science Letters 200.3 (2002), pp. 345–355. issn: 0012-821X.\n",
    "    doi: https://doi.org/10.1016/S0012-821X(02)00640-4.\n",
    "    \n",
    "    Parameters\n",
    "    -----------\n",
    "    h : float or array of floats\n",
    "        mass depth below surface (hg/cm^2)\n",
    "        \n",
    "    Returns\n",
    "    --------\n",
    "    R_v : float or array of floats\n",
    "        Vertical muon stopping rate (hg^-1 s^-1 sr^-1)\n",
    "    \"\"\"\n",
    "    #parameters\n",
    "    p = [258.5,  #p0\n",
    "        -5.5e-4, #p1\n",
    "        210,     #p2\n",
    "        10,      #p3\n",
    "        1.66,    #p4\n",
    "        75]      #p5\n",
    "    \n",
    "    a = np.exp(p[1] * h)\n",
    "    b = h + p[2]\n",
    "    c = (h+p[3])**p[4] + p[5]\n",
    "    \n",
    "    dadh = p[1] * a\n",
    "    dbdh = 1.\n",
    "    dcdh = p[4] * (h+p[3])**(p[4]-1)\n",
    "    \n",
    "    R_v = -p[0] * (b*c*dadh - a*c*dbdh - a*b*dcdh)/ b**2 / c**2  # hg^-1 s^-1 sr^-1\n",
    "    \n",
    "    return R_v"
   ]
  },
  {
   "cell_type": "code",
   "execution_count": 22,
   "id": "ae9d1373",
   "metadata": {},
   "outputs": [],
   "source": [
    "def phi_vert_site(h, dh, H=H, h_end=2e3):\n",
    "    \n",
    "    Phi_v= phi_vert_slhl(h)\n",
    "    \n",
    "    R_v = R_vert_slhl(h)\n",
    "    \n",
    "    R_site = R_v * np.exp(H/att_L(h))\n",
    "    \n",
    "    Phi_end = phi_vert_slhl(h_end)\n",
    "    \n",
    "    dh_ext = 1\n",
    "    h_ext = np.arange(h[-1]+dh_ext, h_end+dh_ext, dh_ext)\n",
    "    \n",
    "    h_int = np.append(h, h_ext)\n",
    "    dh_int = np.append(dh, dh_ext + 0*h_ext)\n",
    "    \n",
    "    R_int = R_vert_slhl(h_int) * np.exp(H/att_L(h_int))\n",
    "    \n",
    "    Phi_site = np.flip(np.cumsum(np.flip(R_int * dh_int))) + (1-np.exp(H/att_L(h_end)))*Phi_end\n",
    "    \n",
    "    Phi_site = Phi_site[:len(h)]\n",
    "    \n",
    "    return Phi_site, R_site"
   ]
  },
  {
   "cell_type": "code",
   "execution_count": 23,
   "id": "8bfdc5b1",
   "metadata": {},
   "outputs": [],
   "source": [
    "def cos_pow(h, H=H):\n",
    "    #parameters\n",
    "    p = [3.21,     #p0\n",
    "         0.297,    #p1\n",
    "         42,       #p2\n",
    "         1.21e-3]  #p3\n",
    "    \n",
    "    #H = (1013.25 - pressure/100) * 1.019716\n",
    "    #h_mod = h + H (atmospheric depth diff. from sea level)\n",
    "    \n",
    "    # shouldn't H be subtracted here?\n",
    "    \n",
    "    n = p[0] - p[1]*np.log(h + H/100 + p[2]) + p[3] * (h + H/100)\n",
    "    \n",
    "    dndh = -p[1]/(h + H/100 + p[2]) + p[3]\n",
    "    \n",
    "    return n, dndh"
   ]
  },
  {
   "cell_type": "code",
   "execution_count": 24,
   "id": "e60e3997",
   "metadata": {},
   "outputs": [],
   "source": [
    "def f_mu_neg(h = None):\n",
    "    K_mu = 1.268 # +/- 0.008 + 0.002 * E[GeV]\n",
    "    \n",
    "    return 1/(K_mu+1)"
   ]
  },
  {
   "cell_type": "code",
   "execution_count": 25,
   "id": "55470890",
   "metadata": {},
   "outputs": [],
   "source": [
    "def phi_all(h, dh, H=H, cos_pow_func=cos_pow, f_func=f_mu_neg):\n",
    "    \n",
    "    n, dndh = cos_pow_func(h, H)\n",
    "    \n",
    "    Phi_v, R_v = phi_vert_site(h, dh, H)\n",
    "    \n",
    "    Phi = 2*np.pi/(n+1) * Phi_v\n",
    "    \n",
    "    R = f_func(h) * (2*np.pi * R_v + Phi*dndh) / (n+1)\n",
    "    \n",
    "    return Phi, R # cm^-2 s^-1"
   ]
  },
  {
   "cell_type": "code",
   "execution_count": 26,
   "id": "6c3a2894",
   "metadata": {},
   "outputs": [],
   "source": [
    "def Heisinger(h):\n",
    "    #parameters\n",
    "    a = 7.6\n",
    "    b = 321.7\n",
    "    c = 8.059e-4\n",
    "    d = 50.7\n",
    "    e = 5.05e-5\n",
    "    \n",
    "    f = 0.846\n",
    "    g = 0.015\n",
    "    i = 0.003139\n",
    "    \n",
    "    # Heisinger's fit for average Energy\n",
    "    E_pred = a + b * (1-np.exp(-c*h)) + d*(1-np.exp(-e*h))\n",
    "\n",
    "    # Heisinger's Beta correction term\n",
    "    Beta_pred = f - g*np.log(h+1)+i*np.log(h+1)**2\n",
    "    \n",
    "    return E_pred, Beta_pred"
   ]
  },
  {
   "cell_type": "code",
   "execution_count": 27,
   "id": "f33c1fa6",
   "metadata": {},
   "outputs": [],
   "source": [
    "a = 0.227 #energy loss due to ionization (GeV cm^2/hg)\n",
    "b = 2.44e-4 #sum of fractional radiation losses (cm^2/hg)\n",
    "b_ice = 2.04e-4 #ice value\n",
    "def E_surf(E_d, X, a=a, b=b):\n",
    "    \n",
    "    return (E_d + a/b)*np.exp(X*b)-a/b"
   ]
  },
  {
   "cell_type": "code",
   "execution_count": 28,
   "id": "0e859967",
   "metadata": {},
   "outputs": [],
   "source": [
    "def Heisinger_ice(Phi_atm, a=a, b=b, norm=True, H=H):\n",
    "    # project under ice w/ Gaisser-Stanev\n",
    "    # normalize proportional to Heisinger depth fit times total surface flux\n",
    "    \n",
    "    #Phi_atm\n",
    "    #axis0 - Atmospheric Model\n",
    "    #axis1 - Primary Model\n",
    "    #axis2 - Zenith Angle\n",
    "    #axis3 - Muon Charge (positive, negative)\n",
    "    #axis4 - Muon Energy\n",
    "    #axis5 - time (past -> present)\n",
    "    \n",
    "    X = np.expand_dims(h_bins,axis=(0,1))/np.expand_dims(cosTH,axis=(0,-1))\n",
    "    \n",
    "    E_bounds = E_surf(np.expand_dims(E_bins,axis=(1,2)), X, a, b) # Energy bins at depth projected back to their surface energies\n",
    "    \n",
    "    Phi_proj = np.zeros((*np.shape(Phi_atm)[:-1], len(h_bins), np.shape(Phi_atm)[-1]))\n",
    "    \n",
    "    # Now, this is going to look incomprehensible, but...\n",
    "    for i in tqdm(range(len(cosTH))):\n",
    "        for j in range(len(h_bins)):\n",
    "            E_proj = E_bounds[:,i,j]\n",
    "            deep = True # Starting from a Phi_proj energy bin edge?  False means Phi_atm\n",
    "            k=np.arange(len(E_bins))[E_bins<=E_proj[0]][-1] # current Phi_atm energy bin\n",
    "            l=0 # current Phi_proj energy bin\n",
    "            while k < len(E_bins)-1 and l < len(E_proj)-1: # step through energy bin edge, one by one, putting muons from Phi_atm into the Phi_proj bin corresponding to their projected underground energy\n",
    "                if E_bins[k+1]<=E_proj[l+1]: # if the next bin edge is from Phi_atm\n",
    "                    Phi_proj[:, :, i, :, l, j, :] += Phi_atm[:,:,i,:,k,:] * (E_bins[k+1]-(E_proj[l] if deep else E_bins[k]))\n",
    "                    k += 1 # Start the next step from Phi_atm's bin edge\n",
    "                    deep = False\n",
    "                else: # if the next bin boundary is from Phi_proj\n",
    "                    Phi_proj[:, :, i, :, l, j, :] += Phi_atm[:,:,i,:,k,:] * (E_proj[l+1]-(E_proj[l] if deep else E_bins[k]))\n",
    "                    l += 1 # Start the next step from Phi_proj's bin edge\n",
    "                    deep = True\n",
    "            # Hate to use a While loop, but it should have to stop before 2*len(E_bins) steps\n",
    "    \n",
    "    Phi_proj = np.sum(Phi_proj / np.reshape(dE,(1,1,1,1,-1,1,1)) * np.reshape(dcosTH, (1,1,-1,1,1,1,1)), axis=2) * 2 * np.pi\n",
    "    #axis0 - Atmospheric Model\n",
    "    #axis1 - Primary Model\n",
    "    #axis2 - Muon Charge (positive, negative)\n",
    "    #axis3 - Muon Energy\n",
    "    #axis4 - depth (top -> bottom)\n",
    "    #axis5 - time (past -> present)\n",
    "    \n",
    "    # Normalize the result to Heisinger's total flux fit (elevation adjusted by Balco)\n",
    "    if norm:\n",
    "        return Phi_proj / np.sum(Phi_proj * np.reshape(dE,(1,1,1,-1,1,1)), axis=(2,3), keepdims=True) * np.reshape(phi_all(h_bins,np.append(dh,dh[-1]),H)[0], (1,1,1,1,-1,1))\n",
    "    else:\n",
    "        return Phi_proj"
   ]
  },
  {
   "cell_type": "code",
   "execution_count": 29,
   "id": "75f19aa2",
   "metadata": {},
   "outputs": [],
   "source": [
    "# Negative Muon Capture parameters (Heisinger)\n",
    "f_C = 1 # value should be absolute\n",
    "f_D = 0.1828 #error unknown\n",
    "f_star, df_star = 0.137, 0.011\n",
    "#f_star, df_star = 4.4e-3/f_C/f_D, 2.6e-3/f_C/f_D\n",
    "f_tot = f_C * f_D * f_star\n",
    "\n",
    "# Fast Muon Interaction parameters (Heisinger)\n",
    "sigma_190, dsigma_190 = 4.5e-28, 2.5e-28 #cm^2\n",
    "alpha = 0.75\n",
    "#sigma_190, dsigma_190 = 2.4e-30*190**alpha, 1.8e-30*190**alpha #Dyonisius 2023\n",
    "sigma_0 = sigma_190 / 190**alpha #8.8e-30 +/- 4.9e-30 cm^2 = 8.8 +/- 4.9 mu b\n",
    "N = 6.022e23 / 0.1802 # hg^-1\n",
    "\n",
    "# Production rate adjustment from Taylor Glacier data\n",
    "f_neg = 0.066\n",
    "f_fast = 0.072\n",
    "\n",
    "#E_pred, Beta_pred = Heisinger(h)\n",
    "\n",
    "def Heisinger_full(Phi0, H=H, f_fast=f_fast, f_neg=f_neg):\n",
    "    # Standard Heisinger calculation\n",
    "    # normalize proportional to total primary flux\n",
    "    \n",
    "    # Currently not normalizing to Phi0\n",
    "    \n",
    "    Phi, R = phi_all(h, dh, H) # Total Muon Flux, Negative Muon Stopping Rate\n",
    "    \n",
    "    P_neg = R * f_tot\n",
    "    \n",
    "    P_fast = sigma_0 * Phi * E_pred**alpha * Beta_pred * N\n",
    "    \n",
    "    P_tot = np.reshape(P_neg*f_neg + P_fast*f_fast, (1,-1,1)) /100 * 60 * 60 * 24 * 365.25 # g^-1, a^-1\n",
    "    \n",
    "    rescale = np.ones((np.shape(Phi0)[0], 1, np.shape(Phi0)[-1]))\n",
    "    \n",
    "    return P_tot * rescale"
   ]
  },
  {
   "cell_type": "markdown",
   "id": "cb164d77",
   "metadata": {},
   "source": [
    "## MCEq"
   ]
  },
  {
   "cell_type": "code",
   "execution_count": 30,
   "id": "852dbf61",
   "metadata": {},
   "outputs": [],
   "source": [
    "#elev = 0\n",
    "elev = 3120\n",
    "\n",
    "interaction_model = \"SIBYLL-2.3c\"\n",
    "#interaction_model = \"SIBYLL-2.3\"\n",
    "#interaction_model = \"SIBYLL-2.1\"\n",
    "#interaction_model = \"EPOS-LHC\"\n",
    "#interaction_model = \"QGSJET-II-04\"\n",
    "#interaction_model = \"DPMJET-III\"\n",
    "#interaction_model = 'DPMJETIII191'\n",
    "\n",
    "density_model, density_name = ('CORSIKA', ('USStd', None)), 'CORSIKA_USStd'\n",
    "#density_model, density_name = ('CORSIKA',('SouthPole', 'June')), 'CORSIKA_SP_Jun'\n",
    "#density_model, density_name = ('CORSIKA',('SouthPole', 'December')), 'CORSIKA_SP_Dec'"
   ]
  },
  {
   "cell_type": "code",
   "execution_count": 31,
   "id": "9f56ae34",
   "metadata": {},
   "outputs": [],
   "source": [
    "def get_mceq_path(mceq, cTH):\n",
    "    mceq.set_theta_deg(180*np.arccos(cTH)/np.pi)\n",
    "    mceq._calculate_integration_path(None,'X')\n",
    "    nsteps, dX, rho_inv, grid_idcs = mceq.integration_path\n",
    "    return dX, dX*rho_inv"
   ]
  },
  {
   "cell_type": "code",
   "execution_count": 32,
   "id": "e60387a0",
   "metadata": {},
   "outputs": [],
   "source": [
    "config.debug_level = 0\n",
    "config.enable_default_tracking = False\n",
    "config.h_obs = elev\n",
    "config.e_min = E_bins[0]*10.**0.1\n",
    "config.e_max = E_bins[-1]\n",
    "\n",
    "config.max_density = 0.001225\n",
    "config.dedx_material='air'\n",
    "\n",
    "mceq_air = MCEqRun(\n",
    "    interaction_model=interaction_model,\n",
    "    theta_deg = 0,\n",
    "    density_model = density_model,\n",
    "    medium = 'air',\n",
    "    primary_model = (pm.GlobalSplineFitBeta, None),\n",
    ")"
   ]
  },
  {
   "cell_type": "code",
   "execution_count": 33,
   "id": "b7e379a1",
   "metadata": {},
   "outputs": [],
   "source": [
    "config.debug_level = 0\n",
    "config.enable_default_tracking = False\n",
    "config.e_min = E_bins[0]*10.**0.1\n",
    "config.e_max = E_bins[-1]\n",
    "\n",
    "config.max_density = 0.9239\n",
    "config.dedx_material='ice'\n",
    "\n",
    "mceq_ice = MCEqRun(\n",
    "    interaction_model = interaction_model,\n",
    "    theta_deg = 0,\n",
    "    density_model = GeneralizedTarget(len_target=z_bins[-1], env_density = rho_ice, env_name = 'ice'),\n",
    "    medium='ice',\n",
    "    primary_model = (pm.GlobalSplineFitBeta, None),\n",
    ")"
   ]
  },
  {
   "cell_type": "code",
   "execution_count": 34,
   "id": "27afcce4",
   "metadata": {},
   "outputs": [],
   "source": [
    "# WHERE ARE YOUR PARENTS??\n",
    "# Here we're trying to assemble a list of all particle species and energies which could ever lead\n",
    "# to the production of a muon\n",
    "# Any particles not falling under that category get cut; we don't need to track them\n",
    "\n",
    "def get_parents(children, mceq=mceq_air):\n",
    "    #rows = products\n",
    "    #columns = sources\n",
    "    row0, col0, val0 = find(mceq.int_m)\n",
    "    row1, col1, val1 = find(mceq.dec_m)\n",
    "    row, col = np.append(row0[val0!=0],row1[val1!=0]), np.append(col0[val0!=0],col1[val1!=0])\n",
    "    \n",
    "    # make sure the identity exists\n",
    "    row = np.append(row, np.arange(len(mceq._phi0)))\n",
    "    col = np.append(col, np.arange(len(mceq._phi0)))\n",
    "\n",
    "    parents = np.copy(children)\n",
    "\n",
    "    i=0\n",
    "    while len(parents) != len(np.unique(col[np.isin(row, parents)])) and i<100:\n",
    "        parents = np.unique(col[np.isin(row, parents)])\n",
    "        i+=1\n",
    "\n",
    "    if i>=100:\n",
    "        print('failed to converge')\n",
    "    \n",
    "    return parents"
   ]
  },
  {
   "cell_type": "code",
   "execution_count": 35,
   "id": "c082d682",
   "metadata": {},
   "outputs": [],
   "source": [
    "def i_to_pname(i, mceq=mceq_air):\n",
    "    return np.array(list(mceq.pman.pname2pref.keys()))[np.unique(i//len(mceq._energy_grid.c))]"
   ]
  },
  {
   "cell_type": "code",
   "execution_count": 36,
   "id": "e95511fe",
   "metadata": {},
   "outputs": [],
   "source": [
    "mu_ids = np.arange(mceq_air.pman.pname2pref['mu+_l'].lidx, mceq_air.pman.pname2pref['mu-_r'].uidx)\n",
    "p_cut = get_parents(mu_ids)"
   ]
  },
  {
   "cell_type": "code",
   "execution_count": 37,
   "id": "27cb01b8",
   "metadata": {},
   "outputs": [
    {
     "data": {
      "text/plain": [
       "array(['mu+_l', 'mu+', 'mu+_r', 'mu-_l', 'mu-', 'mu-_r', 'pi0', 'K_L0',\n",
       "       'pi-', 'pi+', 'K_S0', 'K-', 'K+', 'D-', 'D+', 'Dbar0', 'D0',\n",
       "       'D_s-', 'D_s+', 'nbar0', 'n0', 'pbar-', 'p+', 'Lambdabar0',\n",
       "       'Lambda0'], dtype='<U10')"
      ]
     },
     "execution_count": 37,
     "metadata": {},
     "output_type": "execute_result"
    }
   ],
   "source": [
    "# This is the list of particles that can produce muons\n",
    "# Do I need to recalculate this for each interaction model??\n",
    "i_to_pname(p_cut)"
   ]
  },
  {
   "cell_type": "code",
   "execution_count": 38,
   "id": "7d6c9c31",
   "metadata": {},
   "outputs": [
    {
     "data": {
      "text/plain": [
       "2146"
      ]
     },
     "execution_count": 38,
     "metadata": {},
     "output_type": "execute_result"
    }
   ],
   "source": [
    "len(p_cut)"
   ]
  },
  {
   "cell_type": "code",
   "execution_count": 39,
   "id": "35935dfa",
   "metadata": {},
   "outputs": [
    {
     "data": {
      "text/plain": [
       "4080"
      ]
     },
     "execution_count": 39,
     "metadata": {},
     "output_type": "execute_result"
    }
   ],
   "source": [
    "len(mceq_air._phi0)"
   ]
  },
  {
   "cell_type": "code",
   "execution_count": 40,
   "id": "802b79d0",
   "metadata": {},
   "outputs": [],
   "source": [
    "# These are the indices of all muons within p_cut\n",
    "# NOTE: all muons can produce muons in 0 steps, trivially\n",
    "mu_cut = np.arange(len(p_cut))[np.isin(p_cut, mu_ids)]\n",
    "mu_pos_l_cut = np.arange(len(p_cut))[np.isin(p_cut, np.arange(mceq_air.pman.pname2pref['mu+_l'].lidx, mceq_air.pman.pname2pref['mu+_l'].uidx))]\n",
    "mu_pos_cut = np.arange(len(p_cut))[np.isin(p_cut, np.arange(mceq_air.pman.pname2pref['mu+'].lidx, mceq_air.pman.pname2pref['mu+'].uidx))]\n",
    "mu_pos_r_cut = np.arange(len(p_cut))[np.isin(p_cut, np.arange(mceq_air.pman.pname2pref['mu+_r'].lidx, mceq_air.pman.pname2pref['mu+_r'].uidx))]\n",
    "mu_neg_l_cut = np.arange(len(p_cut))[np.isin(p_cut, np.arange(mceq_air.pman.pname2pref['mu-_l'].lidx, mceq_air.pman.pname2pref['mu-_l'].uidx))]\n",
    "mu_neg_cut = np.arange(len(p_cut))[np.isin(p_cut, np.arange(mceq_air.pman.pname2pref['mu-'].lidx, mceq_air.pman.pname2pref['mu-'].uidx))]\n",
    "mu_neg_r_cut = np.arange(len(p_cut))[np.isin(p_cut, np.arange(mceq_air.pman.pname2pref['mu-_r'].lidx, mceq_air.pman.pname2pref['mu-_r'].uidx))]"
   ]
  },
  {
   "cell_type": "code",
   "execution_count": 41,
   "id": "5224a39e",
   "metadata": {},
   "outputs": [],
   "source": [
    "def mceq_integrate(phi0, dX, dz, int_m, dec_m, grid=False):\n",
    "    phc = np.copy(phi0)\n",
    "    \n",
    "    if grid:\n",
    "        grid_sol = np.zeros((len(dX)+1, *np.shape(phi0))) # grid_sol begins with the right shape, to avoid restructuring\n",
    "        grid_sol[0] = np.copy(phi0)\n",
    "    \n",
    "    for step in tqdm(range(len(dX))): # added option for tqdm progress bar\n",
    "        phc += int_m.dot(phc)*dX[step] + dec_m.dot(phc)*dz[step]\n",
    "        phc[phc<1e-250] = 0. # exreme low values set to 0, improving efficiency for large slant depths\n",
    "\n",
    "        if grid:\n",
    "            grid_sol[step+1] = np.copy(phc) # grid_sol no longer appends\n",
    "            \n",
    "    if grid:\n",
    "        return grid_sol\n",
    "    \n",
    "    return phc"
   ]
  },
  {
   "cell_type": "code",
   "execution_count": 42,
   "id": "42db9329",
   "metadata": {},
   "outputs": [],
   "source": [
    "def solve_mceq(mceq, int_grid=None, grid_var='X', use_tqdm=False):\n",
    "    mceq._calculate_integration_path(int_grid=int_grid, grid_var=grid_var)\n",
    "\n",
    "    nsteps, dX, rho_inv, grid_idcs = mceq.integration_path\n",
    "    int_m = mceq.int_m\n",
    "    dec_m = mceq.dec_m\n",
    "\n",
    "    dXaccum = 0.\n",
    "    grid_sol = np.zeros((len(grid_idcs), *np.shape(mceq._phi0))) # grid_sol begins with the right shape, to avoid restructuring\n",
    "    grid_step = 0\n",
    "\n",
    "    phc = np.copy(mceq._phi0)\n",
    "    \n",
    "    for step in (tqdm(range(nsteps)) if use_tqdm else range(nsteps)): # added option for tqdm progress bar\n",
    "        phc += (int_m.dot(phc) + dec_m.dot(rho_inv[step] * phc)) * dX[step]\n",
    "        phc[phc<1e-250] = 0. # exreme low values set to 0, improving efficiency for large slant depths\n",
    "\n",
    "        if (grid_idcs and grid_step < len(grid_idcs)\n",
    "                and grid_idcs[grid_step] == step):\n",
    "            grid_sol[grid_step] = np.copy(phc) # grid_sol no longer appends\n",
    "            grid_step += 1\n",
    "\n",
    "    mceq._solution, mceq.grid_sol = phc, grid_sol\n",
    "    \n",
    "    return"
   ]
  },
  {
   "cell_type": "code",
   "execution_count": 43,
   "id": "3fb6457c",
   "metadata": {},
   "outputs": [],
   "source": [
    "def MCEq_atm(Phi0, interaction_model=\"SIBYLL-2.3c\", density_model=('CORSIKA', ('USStd', None)), elev=elev):\n",
    "    # Use MCEq to propagate primary flux to atmospheric muons\n",
    "    #Phi0\n",
    "    #axis0 - Primary Model (Energy spectrum & Time dependence)\n",
    "    #axis1 - Particle Species (proton, neutron)\n",
    "    #axis2 - Primary Energy\n",
    "    #axis3 - time (past -> present)\n",
    "    \n",
    "    import mceq_config as config\n",
    "    config.debug_level = 0\n",
    "    config.h_obs = elev # elevation in (m) of Dome-C\n",
    "    config.enable_default_tracking = False\n",
    "    config.e_min = E_bins[0]*10.**0.1\n",
    "    config.e_max = E_bins[-1]\n",
    "    config.max_density = 0.001225\n",
    "    config.dedx_material = 'air'\n",
    "    \n",
    "    #mceq_air.set_interaction_model(interaction_model)\n",
    "    #config.h_obs = elev\n",
    "    #mceq_air.set_density_model(density_model)\n",
    "    #int_m_air, dec_m_air = mceq_air.int_m[p_cut][:,p_cut], mceq_air.dec_m[p_cut][:,p_cut]\n",
    "    \n",
    "    mceq = MCEqRun(\n",
    "        interaction_model=interaction_model,\n",
    "        theta_deg = 0,\n",
    "        density_model = density_model,\n",
    "        #medium=medium,\n",
    "        primary_model = (pm.GaisserHonda, None),\n",
    "    )\n",
    "    \n",
    "    pname = mceq.pman.pname2pref\n",
    "    phi0 = np.zeros((np.shape(Phi0)[0], len(mceq._phi0), np.shape(Phi0)[-1]))\n",
    "    phi0[:,pname['p+'].lidx:pname['p+'].uidx] = Phi0[:,0]\n",
    "    phi0[:,pname['n0'].lidx:pname['n0'].uidx] = Phi0[:,1]\n",
    "    #phi0 = phi0[:,p_cut]\n",
    "    phi0 = np.moveaxis(phi0, 1, 0)\n",
    "    #phi0 = phi0.reshape((len(p_cut),-1))\n",
    "    phi0 = phi0.reshape((len(mceq._phi0),-1))\n",
    "    \n",
    "    #phi_mu = np.zeros((np.shape(Phi0)[0],len(cosTH),2,len(mu_pos_cut),np.shape(Phi0)[-1]))\n",
    "    phi_mu = np.zeros((np.shape(Phi0)[0],len(cosTH),2,len(E),np.shape(Phi0)[-1]))\n",
    "    \n",
    "    for i in tqdm(range(len(cosTH))):\n",
    "        #dX_air, dz_air = get_mceq_path(mceq_air, cosTH[i])\n",
    "        #phi_surf = mceq_integrate(phi0, dX_air, dz_air, int_m_air, dec_m_air)\n",
    "        #phi_surf = np.moveaxis(phi_surf.reshape(len(p_cut),np.shape(Phi0)[0],np.shape(Phi0)[-1]), 0, 1)\n",
    "        \n",
    "        mceq.set_theta_deg(180*np.arccos(cosTH[i])/np.pi)\n",
    "        mceq._phi0 = phi0\n",
    "        #mceq.solve()\n",
    "        solve_mceq(mceq)\n",
    "        phi_surf = np.moveaxis(mceq._solution.reshape(len(phi0),np.shape(Phi0)[0],np.shape(Phi0)[-1]), 0, 1)\n",
    "        \n",
    "        phi_mu[:,i,0] += phi_surf[:,pname['mu+'].lidx:pname['mu+'].uidx]\n",
    "        phi_mu[:,i,0] += phi_surf[:,pname['mu+_l'].lidx:pname['mu+_l'].uidx]\n",
    "        phi_mu[:,i,0] += phi_surf[:,pname['mu+_r'].lidx:pname['mu+_r'].uidx]\n",
    "        \n",
    "        phi_mu[:,i,1] += phi_surf[:,pname['mu-'].lidx:pname['mu-'].uidx]\n",
    "        phi_mu[:,i,1] += phi_surf[:,pname['mu-_l'].lidx:pname['mu-_l'].uidx]\n",
    "        phi_mu[:,i,1] += phi_surf[:,pname['mu-_r'].lidx:pname['mu-_r'].uidx]\n",
    "    \n",
    "    return phi_mu"
   ]
  },
  {
   "cell_type": "code",
   "execution_count": 44,
   "id": "c30d72c6",
   "metadata": {},
   "outputs": [],
   "source": [
    "def MCEq_ice(Phi_atm, interaction_model=\"SIBYLL-2.3c\"):\n",
    "    # Use MCEq to propagate atmospheric muons underground\n",
    "    #Phi_atm\n",
    "    #axis0 - Atmospheric Model\n",
    "    #axis1 - Primary Model\n",
    "    #axis2 - Zenith Angle\n",
    "    #axis3 - Muon Charge (positive, negative)\n",
    "    #axis4 - Muon Energy\n",
    "    #axis5 - time (past -> present)\n",
    "    \n",
    "    import mceq_config as config\n",
    "    config.debug_level = 0\n",
    "    config.h_obs = elev # elevation in (m) of Dome-C\n",
    "    config.enable_default_tracking = False\n",
    "    config.e_min = E_bins[0]*10.**0.1\n",
    "    config.e_max = E_bins[-1]\n",
    "    config.max_density = rho_ice\n",
    "    config.dedx_material='ice'\n",
    "    medium = 'ice'\n",
    "    \n",
    "    target = GeneralizedTarget(len_target=z_bins[-1]*100, env_density = rho_ice, env_name = 'ice')\n",
    "    \n",
    "    mceq = MCEqRun(\n",
    "        interaction_model=interaction_model,\n",
    "        theta_deg = 0,\n",
    "        density_model = target,\n",
    "        medium=medium,\n",
    "        primary_model = (pm.GaisserHonda, None),\n",
    "    )\n",
    "    \n",
    "    #mceq_ice.set_interaction_model(interaction_model)\n",
    "    #int_m_ice, dec_m_ice = mceq_ice.int_m[p_cut][:,p_cut], mceq_ice.dec_m[p_cut][:,p_cut]\n",
    "    \n",
    "    pname = mceq.pman.pname2pref\n",
    "    phi0 = np.zeros((*np.shape(Phi_atm)[:3], len(mceq._phi0), np.shape(Phi_atm)[-1]))\n",
    "    phi0[:,:,:,pname['mu+'].lidx:pname['mu+'].uidx] = Phi_atm[:,:,:,0]\n",
    "    phi0[:,:,:,pname['mu-'].lidx:pname['mu-'].uidx] = Phi_atm[:,:,:,1]\n",
    "    phiF = np.copy(phi0)\n",
    "    #phi0 = phi0[:,:,:,p_cut]\n",
    "    phi0 = np.moveaxis(phi0, (2,3), (0,1))\n",
    "    phi0 = phi0.reshape((len(cosTH),len(mceq._phi0),-1))\n",
    "    \n",
    "    phi_mu = np.zeros((*np.shape(Phi_atm)[:2],2,np.shape(Phi_atm)[-2],len(h_bins),np.shape(Phi_atm)[-1]))\n",
    "    \n",
    "    for i in tqdm(range(len(cosTH))):\n",
    "        #phi_deep = mceq_integrate(phi0[i], dh/cosTH[i]*100., dz/cosTH[i]*100., int_m_ice, dec_m_ice, grid=True)\n",
    "        #phi_deep = np.moveaxis(phi_deep.reshape(len(h_bins), len(p_cut), *np.shape(Phi_atm)[:2], np.shape(Phi_atm)[-1]), (0,1), (-2,2))\n",
    "        \n",
    "        target = GeneralizedTarget(len_target=z_bins[-1]*100/cosTH[i], env_density = rho_ice, env_name = 'ice')\n",
    "        target.mat_list = [[z_bins[j]*100/cosTH[i], z_bins[j+1]*100/cosTH[i], rho[j], 'ice'] for j in range(len(z_bins)-1)]\n",
    "        target._update_variables()\n",
    "        \n",
    "        mceq.set_density_model(target)\n",
    "        mceq._phi0 = phi0[i]\n",
    "        #mceq.solve(int_grid=h_bins/cosTH[i]*100)\n",
    "        solve_mceq(mceq, int_grid=h_bins/cosTH[i]*100)\n",
    "        #mceq.grid_sol = np.expand_dims(mceq._phi0, axis=0) * np.ones((len(z_bins),1,1))\n",
    "        phi_deep = np.moveaxis(mceq.grid_sol.reshape(len(h_bins), len(phi0[i]), *np.shape(Phi_atm)[:2], np.shape(Phi_atm)[-1]), (0,1), (-2,2))\n",
    "        \n",
    "        #phi_deep = np.expand_dims(phiF[:,:,i], axis=3) * np.ones((1,1,1,len(z_bins),1))\n",
    "        \n",
    "        phi_mu[:,:,0] += phi_deep[:,:,pname['mu+'].lidx:pname['mu+'].uidx]*dcosTH[i]\n",
    "        phi_mu[:,:,0] += phi_deep[:,:,pname['mu+_l'].lidx:pname['mu+_l'].uidx]*dcosTH[i]\n",
    "        phi_mu[:,:,0] += phi_deep[:,:,pname['mu+_r'].lidx:pname['mu+_r'].uidx]*dcosTH[i]\n",
    "        \n",
    "        phi_mu[:,:,1] += phi_deep[:,:,pname['mu-'].lidx:pname['mu-'].uidx]*dcosTH[i]\n",
    "        phi_mu[:,:,1] += phi_deep[:,:,pname['mu-_l'].lidx:pname['mu-_l'].uidx]*dcosTH[i]\n",
    "        phi_mu[:,:,1] += phi_deep[:,:,pname['mu-_r'].lidx:pname['mu-_r'].uidx]*dcosTH[i]\n",
    "        #phi_mu += np.expand_dims(Phi_atm[:,:,i], axis=4) * np.ones((1,1,1,1,len(z_bins),1)) * dcosTH[i]\n",
    "    \n",
    "    return phi_mu * 2 * np.pi"
   ]
  },
  {
   "cell_type": "code",
   "execution_count": 45,
   "id": "712f55b1",
   "metadata": {},
   "outputs": [],
   "source": [
    "def MCEq_atmice(Phi0, interaction_model=\"SIBYLL-2.3c\", density_model=('CORSIKA', ('USStd', None)), elev=elev):\n",
    "    # Use MCEq to propagate primary flux to atmospheric muons to underground muons\n",
    "    \n",
    "    import mceq_config as config\n",
    "    config.debug_level = 0\n",
    "    config.h_obs = elev # elevation in (m) of Dome-C\n",
    "    config.enable_default_tracking = False\n",
    "    config.e_min = E_bins[0]*10.**0.1\n",
    "    config.e_max = E_bins[-1]\n",
    "    config.max_density = 0.001225\n",
    "    config.dedx_material = 'air'\n",
    "    \n",
    "    mceq_air = MCEqRun(\n",
    "        interaction_model=interaction_model,\n",
    "        theta_deg = 0,\n",
    "        density_model = density_model,\n",
    "        #medium=medium,\n",
    "        primary_model = (pm.GaisserHonda, None),\n",
    "    )\n",
    "    \n",
    "    import mceq_config as config\n",
    "    config.debug_level = 0\n",
    "    config.h_obs = elev # elevation in (m) of Dome-C\n",
    "    config.enable_default_tracking = False\n",
    "    config.e_min = E_bins[0]*10.**0.1\n",
    "    config.e_max = E_bins[-1]\n",
    "    config.max_density = rho_ice\n",
    "    config.dedx_material='ice'\n",
    "    medium = 'ice'\n",
    "    \n",
    "    target = GeneralizedTarget(len_target=z_bins[-1]*100, env_density = rho_ice, env_name = 'ice')\n",
    "    \n",
    "    mceq_ice = MCEqRun(\n",
    "        interaction_model=interaction_model,\n",
    "        theta_deg = 0,\n",
    "        density_model = target,\n",
    "        medium=medium,\n",
    "        primary_model = (pm.GaisserHonda, None),\n",
    "    )\n",
    "    \n",
    "    #mceq_air.set_interaction_model(interaction_model)\n",
    "    #config.h_obs = elev\n",
    "    #mceq_air.set_density_model(density_model)\n",
    "    #int_m_air, dec_m_air = mceq_air.int_m[p_cut][:,p_cut], mceq_air.dec_m[p_cut][:,p_cut]\n",
    "    \n",
    "    #mceq_ice.set_interaction_model(interaction_model)\n",
    "    #int_m_ice, dec_m_ice = mceq_ice.int_m[p_cut][:,p_cut], mceq_ice.dec_m[p_cut][:,p_cut]\n",
    "    \n",
    "    pname = mceq_air.pman.pname2pref\n",
    "    phi0 = np.zeros((np.shape(Phi0)[0], len(mceq_air._phi0), np.shape(Phi0)[-1]))\n",
    "    phi0[:,pname['p+'].lidx:pname['p+'].uidx] = Phi0[:,0]\n",
    "    phi0[:,pname['n0'].lidx:pname['n0'].uidx] = Phi0[:,1]\n",
    "    #phi0 = phi0[:,p_cut]\n",
    "    phi0 = np.moveaxis(phi0, 1, 0)\n",
    "    #phi0 = phi0.reshape((len(p_cut),-1))\n",
    "    phi0 = phi0.reshape((len(mceq_air._phi0),-1))\n",
    "    \n",
    "    phi_mu = np.zeros((np.shape(Phi0)[0],2,len(E),len(h_bins),np.shape(Phi0)[-1]))\n",
    "    \n",
    "    for i in tqdm(range(len(cosTH))):\n",
    "        #dX_air, dz_air = get_mceq_path(mceq_air, cosTH[i])\n",
    "        #phi_surf = mceq_integrate(phi0, dX_air, dz_air, int_m_air, dec_m_air)\n",
    "        mceq_air.set_theta_deg(180*np.arccos(cosTH[i])/np.pi)\n",
    "        mceq_air._phi0 = phi0\n",
    "        #mceq_air.solve()\n",
    "        solve_mceq(mceq_air)\n",
    "        \n",
    "        #phi_deep = mceq_integrate(phi_surf, dh/cosTH[i]*100., dz/cosTH[i]*100., int_m_ice, dec_m_ice, grid=True)target = GeneralizedTarget(len_target=z_bins[-1]*100, env_density = rho_ice, env_name = 'ice')\n",
    "        target = GeneralizedTarget(len_target=z_bins[-1]*100/cosTH[i], env_density = rho_ice, env_name = 'ice')\n",
    "        target.mat_list = [[z_bins[j]*100/cosTH[i], z_bins[j+1]*100/cosTH[i], rho[j], 'ice'] for j in range(len(z_bins)-1)]\n",
    "        target._update_variables()\n",
    "        \n",
    "        mceq_ice.set_density_model(target)\n",
    "        mceq_ice._phi0 = mceq_air._solution\n",
    "        #mceq_ice.solve(int_grid=h_bins/cosTH[i]*100)\n",
    "        solve_mceq(mceq_ice, int_grid=h_bins/cosTH[i]*100)\n",
    "        phi_deep = np.moveaxis(mceq_ice.grid_sol.reshape(len(h_bins), len(phi0), np.shape(Phi0)[0], np.shape(Phi0)[-1]), (0,1), (-2,1))\n",
    "        \n",
    "        phi_mu[:,0] += phi_deep[:,pname['mu+'].lidx:pname['mu+'].uidx]*dcosTH[i]\n",
    "        phi_mu[:,0] += phi_deep[:,pname['mu+_l'].lidx:pname['mu+_l'].uidx]*dcosTH[i]\n",
    "        phi_mu[:,0] += phi_deep[:,pname['mu+_r'].lidx:pname['mu+_r'].uidx]*dcosTH[i]\n",
    "        \n",
    "        phi_mu[:,1] += phi_deep[:,pname['mu-'].lidx:pname['mu-'].uidx]*dcosTH[i]\n",
    "        phi_mu[:,1] += phi_deep[:,pname['mu-_l'].lidx:pname['mu-_l'].uidx]*dcosTH[i]\n",
    "        phi_mu[:,1] += phi_deep[:,pname['mu-_r'].lidx:pname['mu-_r'].uidx]*dcosTH[i]\n",
    "        \n",
    "    return phi_mu * 2 * np.pi"
   ]
  },
  {
   "cell_type": "markdown",
   "id": "5e287125",
   "metadata": {},
   "source": [
    "## Daemonflux"
   ]
  },
  {
   "cell_type": "code",
   "execution_count": 46,
   "id": "30df1534",
   "metadata": {},
   "outputs": [],
   "source": [
    "def daemonflux_atm(Phi0):\n",
    "    \n",
    "    df_cut = (E <= 1e9)\n",
    "    daemon_flux_pos = daemonflux.Flux(location='generic').flux(E[df_cut], np.arccos(cosTH)*180/np.pi, 'mu+')/np.reshape(E[df_cut]**3, (-1,1))\n",
    "    daemon_flux_neg = daemonflux.Flux(location='generic').flux(E[df_cut], np.arccos(cosTH)*180/np.pi, 'mu-')/np.reshape(E[df_cut]**3, (-1,1))\n",
    "\n",
    "    Phi_atm = np.zeros((np.shape(Phi0)[0], len(cosTH), 2, len(E), np.shape(Phi0)[-1]))\n",
    "    pname = mceq_air.pman.pname2pref\n",
    "    Phi_atm[:, :, :, df_cut] = np.reshape(daemon_flux_pos.T, (1,len(cosTH), 1, -1, 1)) # positive muons\n",
    "    Phi_atm[:, :, :, df_cut] = np.reshape(daemon_flux_neg.T, (1,len(cosTH), 1, -1, 1)) # negative muons\n",
    "    \n",
    "    #Phi_atm\n",
    "    #axis0 - Primary Model\n",
    "    #axis1 - Zenith Angle\n",
    "    #axis2 - Muon Charge (positive, negative)\n",
    "    #axis3 - Muon Energy\n",
    "    #axis4 - time (past -> present)\n",
    "    \n",
    "    return Phi_atm"
   ]
  },
  {
   "cell_type": "markdown",
   "id": "f9e9d8f0",
   "metadata": {},
   "source": [
    "## Production Rates"
   ]
  },
  {
   "cell_type": "code",
   "execution_count": 47,
   "id": "a5c5c6e7",
   "metadata": {},
   "outputs": [],
   "source": [
    "def Dyonisius_prod(Phi_ice, f_fast=f_fast, f_neg=f_neg, alpha=alpha):\n",
    "    # Calculate production rates\n",
    "    # Scale to f-factors\n",
    "    \n",
    "    #Phi_ice\n",
    "    #axis0 - Atmospheric & Ice Models\n",
    "    #axis1 - Primary Model\n",
    "    #axis2 - Muon Charge (positive, negative)\n",
    "    #axis3 - Muon Energy\n",
    "    #axis4 - depth (top -> bottom)\n",
    "    #axis5 - time (past -> present)\n",
    "    \n",
    "    # NOTE: depth starts measured on the bin EDGES and is returned on the bin CENTERS\n",
    "    # (This is because we need to take a derivative)\n",
    "    \n",
    "    sigma_0 = sigma_190 / 190.**alpha\n",
    "    \n",
    "    P_neg = f_tot * -np.diff(np.sum(Phi_ice[:,:,1] * np.reshape(dE, (1,1,-1,1,1)), axis=2), axis=-2)/np.reshape(dh, (1,1,-1,1))\n",
    "    \n",
    "    P_fast = sigma_0 * N * np.sum((Phi_ice[:,:,:,:,1:]+Phi_ice[:,:,:,:,:-1])/2 * np.reshape(E**alpha * dE, (1,1,1,-1,1,1)), axis=(2,3))\n",
    "    \n",
    "    return (P_neg*f_neg + P_fast*f_fast) /100 * 60 * 60 * 24 * 365.25 # g^-1, a^-1"
   ]
  },
  {
   "cell_type": "code",
   "execution_count": 48,
   "id": "4995946d",
   "metadata": {},
   "outputs": [],
   "source": [
    "def Dyonisius_both(Phi_ice, alpha=alpha):\n",
    "    # Calculate production rates\n",
    "    # Scale to f-factors\n",
    "    \n",
    "    #Phi_ice\n",
    "    #axis0 - Atmospheric & Ice Models\n",
    "    #axis1 - Primary Model\n",
    "    #axis2 - Muon Charge (positive, negative)\n",
    "    #axis3 - Muon Energy\n",
    "    #axis4 - depth (top -> bottom)\n",
    "    #axis5 - time (past -> present)\n",
    "    \n",
    "    # NOTE: depth starts measured on the bin EDGES and is returned on the bin CENTERS\n",
    "    # (This is because we need to take a derivative)\n",
    "    \n",
    "    sigma_0 = sigma_190 / 190.**alpha\n",
    "    \n",
    "    P_neg = f_tot * -np.diff(np.sum(Phi_ice[:,:,1] * np.reshape(dE, (1,1,-1,1,1)), axis=2), axis=-2)/np.reshape(dh, (1,1,-1,1))\n",
    "    \n",
    "    P_fast = sigma_0 * N * np.sum((Phi_ice[:,:,:,:,1:]+Phi_ice[:,:,:,:,:-1])/2 * np.reshape(E**alpha * dE, (1,1,1,-1,1,1)), axis=(2,3))\n",
    "    \n",
    "    return P_fast /100 * 60 * 60 * 24 * 365.25, P_neg /100 * 60 * 60 * 24 * 365.25 # g^-1, a^-1"
   ]
  },
  {
   "cell_type": "markdown",
   "id": "63918b11",
   "metadata": {},
   "source": [
    "## 14CO Integration"
   ]
  },
  {
   "cell_type": "code",
   "execution_count": 49,
   "id": "70756720",
   "metadata": {},
   "outputs": [],
   "source": [
    "def diag_sum(A, off=None, axis1=-2, axis2=-1):\n",
    "    # sums along the upper diagonals of two axes in an array\n",
    "    # the new axis replaces axis1; axis2 is eliminated.\n",
    "    if off==None:\n",
    "        off = np.flip(range(np.shape(A)[axis2]))\n",
    "    return np.moveaxis(np.array([np.trace(A, offset=i, axis1=axis1, axis2=axis2) for i in off]), 0, axis1 if axis1>=0 else axis1+1)"
   ]
  },
  {
   "cell_type": "code",
   "execution_count": 50,
   "id": "5a2e94e1",
   "metadata": {},
   "outputs": [],
   "source": [
    "# Decay parameter\n",
    "lambd=1.21e-4 #yr^-1\n",
    "\n",
    "lambda_dt = np.reshape((1-lambd)**(t[i_int][-1]-t[i_int]) * dt[i_int], (1,1,1,-1))\n",
    "\n",
    "def Basic_flow(P_14CO, lambd=lambd):\n",
    "    # Shift past 14CO down and decay\n",
    "    # (AKA multiply by survival fraction and sum along upper diagonal)\n",
    "    \n",
    "    #P_14CO - 14CO Production Rate (N^3 x N x ~7000 x ~7000)\n",
    "    #axis0 - Production, Atmospheric & Ice Models\n",
    "    #axis1 - Primary Model\n",
    "    #axis2 - depth (top -> bottom)\n",
    "    #axis3 - time (past -> present)\n",
    "    \n",
    "    return diag_sum(P_14CO[:,:,i_int] * lambda_dt)"
   ]
  },
  {
   "cell_type": "markdown",
   "id": "5d6a0cb5",
   "metadata": {},
   "source": [
    "## 14CO Profiles"
   ]
  },
  {
   "cell_type": "code",
   "execution_count": 51,
   "id": "e4b0278e",
   "metadata": {},
   "outputs": [],
   "source": [
    "def load_profile(Phi0, file='balco_14co_const_models.fits', i=68):\n",
    "    hdus = fits.open(file)\n",
    "    return np.reshape(hdus['CO14'].data[i][1:], (1,-1)) * np.ones((len(Phi0),1))"
   ]
  },
  {
   "cell_type": "markdown",
   "id": "e88faf0d",
   "metadata": {},
   "source": [
    "## Full Calculation"
   ]
  },
  {
   "cell_type": "code",
   "execution_count": 52,
   "id": "eeb12f38",
   "metadata": {},
   "outputs": [],
   "source": [
    "# default functions & parameters\n",
    "#elevs = [0,3120]\n",
    "\n",
    "interaction_models = [\"SIBYLL-2.3c\",\"SIBYLL-2.3\",\"SIBYLL-2.1\",\"EPOS-LHC\",\"QGSJET-II-04\",\"DPMJET-III\",'DPMJETIII191']\n",
    "\n",
    "density_models = [('CORSIKA', ('USStd', None)), ('CORSIKA',('SouthPole', 'December'))]#('CORSIKA',('SouthPole', 'June'))\n",
    "density_names = ['CORSIKA_USStd', 'CORSIKA_SP_Dec']#'CORSIKA_SP_Jun'\n",
    "\n",
    "atm0 = []#[(Prefit_atm, ()), (MCEq_atm, ()), (daemonflux_atm, ())]\n",
    "atm_labels = []#['JN-fit', 'MCEq-atm', 'daemonflux']\n",
    "\n",
    "for j,inter in enumerate(interaction_models):\n",
    "    for k,d in enumerate(density_models):\n",
    "        atm0.append([MCEq_atm, (inter, d)])\n",
    "        atm_labels.append('MCEq-{}-{}'.format(inter, density_names[k]))\n",
    "\n",
    "ice0 = [(Heisinger_ice, ()), (Heisinger_ice, (a,b,False)), (Heisinger_ice, (a,b_ice)), (Heisinger_ice, (a,b_ice,False))]#, (MCEq_ice, ())]\n",
    "ice_labels = ['_H-ice-norm', '_H-ice', '_H-ice-norm-bice', '_H-ice-bice']#, '_MCEq-ice']\n",
    "\n",
    "atmice0 = []#[(MCEq_atmice, ())]\n",
    "atmice_labels = []#['MCEq']\n",
    "\n",
    "for j,inter in enumerate(interaction_models):\n",
    "    for k,d in enumerate(density_models):\n",
    "        atmice0.append([MCEq_atmice, (inter, d)])\n",
    "        atmice_labels.append('_MCEq-{}-{}'.format(inter, density_names[k]))\n",
    "\n",
    "prod0 = [(Dyonisius_prod, ()), (Dyonisius_prod, (1,0)), (Dyonisius_prod, (0,1))]\n",
    "prod_labels = ['', '_fast', '_neg']\n",
    "\n",
    "prodfull0 = []#[(Heisinger_full, ())]\n",
    "prodfull_labels = []#['Heisinger']\n",
    "\n",
    "flow0 = [(Basic_flow, ())]\n",
    "flow_labels = ['']\n",
    "\n",
    "flowfull0 = []#[(load_profile, ())]\n",
    "flowfull_labels = []#['Balco-Matlab']"
   ]
  },
  {
   "cell_type": "code",
   "execution_count": 53,
   "id": "ee43d292",
   "metadata": {},
   "outputs": [],
   "source": [
    "model_names = []\n",
    "\n",
    "for l in flow_labels:\n",
    "    for k in prod_labels:\n",
    "        for j in ice_labels:\n",
    "            for i in atm_labels:\n",
    "                model_names.append('{}{}{}{}'.format(i,j,k,l))\n",
    "        for i in atmice_labels:\n",
    "            model_names.append('{}{}{}'.format(i,k,l))\n",
    "    for i in prodfull_labels:\n",
    "        model_names.append('{}{}'.format(i,l))\n",
    "for i in flowfull_labels:\n",
    "    model_names.append(i)"
   ]
  },
  {
   "cell_type": "code",
   "execution_count": 54,
   "id": "498a980f",
   "metadata": {},
   "outputs": [],
   "source": [
    "#Phi0 - Primary CR Spectrum (N x 240 x ~7000)\n",
    "#axis0 - Primary Model (Energy spectrum & Time dependence)\n",
    "#axis1 - Primary Energy (proton, neutron)\n",
    "#axis2 - time (past -> present)\n",
    "\n",
    "#NOTE: Very inefficient to have spectral shape vary with time.\n",
    "#Much more efficient to scale flux normalization after calculating Production Rates.\n",
    "\n",
    "#Phi_atm - Atmospheric Muon Spectrum (N x N x 10 x 2 x 120 x ~7000)\n",
    "#axis0 - Atmospheric Model\n",
    "#axis1 - Primary Model\n",
    "#axis2 - Zenith Angle\n",
    "#axis3 - Muon Charge (positive, negative)\n",
    "#axis4 - Muon Energy\n",
    "#axis5 - time (past -> present)\n",
    "\n",
    "#Phi_ice - Underground (ice) Muon Spectrum (N^2 x N x 2 x 120 x ~7000 x ~7000)\n",
    "#axis0 - Atmospheric & Ice Models\n",
    "#axis1 - Primary Model\n",
    "#axis2 - Muon Charge (positive, negative)\n",
    "#axis3 - Muon Energy\n",
    "#axis4 - depth BIN EDGES (top -> bottom)\n",
    "#axis5 - time (past -> present)\n",
    "\n",
    "#P_14CO - 14CO Production Rate (N^3 x N x ~7000 x ~7000)\n",
    "#axis0 - Production, Atmospheric & Ice Models\n",
    "#axis1 - Primary Model\n",
    "#axis2 - depth (top -> bottom)\n",
    "#axis3 - time (past -> present)\n",
    "\n",
    "#CO - 14CO Profile (N x N^3 x N x ~7000)\n",
    "#axis0 - Flow Model\n",
    "#axis1 - Production, Atmospheric & Ice Models\n",
    "#axis2 - Primary Model\n",
    "#axis3 - depth (top -> bottom)\n",
    "\n",
    "#CO_samp = 14CO Predicted Samples (N x N^3 x N x ~12)\n",
    "#axis0 - Flow Model\n",
    "#axis1 - Production, Atmospheric & Ice Models\n",
    "#axis2 - Primary Model\n",
    "#axis3 - sample depth (top -> bottom)"
   ]
  },
  {
   "cell_type": "code",
   "execution_count": 55,
   "id": "6383680e",
   "metadata": {},
   "outputs": [],
   "source": [
    "def primary_to_atm(Phi0, atm=atm0):\n",
    "    \n",
    "    Phi_atm = np.array([a[0](Phi0, *a[1]) for a in atm])\n",
    "    \n",
    "    print('Atmosphere complete')\n",
    "    \n",
    "    return Phi_atm"
   ]
  },
  {
   "cell_type": "code",
   "execution_count": 56,
   "id": "2592e8e3",
   "metadata": {},
   "outputs": [],
   "source": [
    "def atm_to_ice(Phi_atm, ice=ice0):\n",
    "    \n",
    "    if len(Phi_atm)>0 and len(ice)>0:\n",
    "        Phi_ice = np.array([i[0](Phi_atm, *i[1]) for i in ice])\n",
    "        Phi_ice = np.reshape(Phi_ice, (-1, *np.shape(Phi_ice)[2:]))\n",
    "        if len(atmice)>0:\n",
    "            Phi_ice = np.concatenate((Phi_ice, [ai[0](Phi0, *ai[1]) for ai in atmice]))\n",
    "    else:\n",
    "        Phi_ice = np.array([ai[0](Phi0, *ai[1]) for ai in atmice])\n",
    "    \n",
    "    print('Ice complete')\n",
    "    \n",
    "    return Phi_ice\n",
    "\n",
    "def primary_to_ice(Phi0, atm=atm0, ice=ice0, atmice=atmice0):\n",
    "    \n",
    "    Phi_atm = np.array([a[0](Phi0, *a[1]) for a in atm])\n",
    "    \n",
    "    print('Atmosphere complete')\n",
    "    \n",
    "    if len(Phi_atm)>0 and len(ice)>0:\n",
    "        Phi_ice = np.array([i[0](Phi_atm, *i[1]) for i in ice])\n",
    "        Phi_ice = np.reshape(Phi_ice, (-1, *np.shape(Phi_ice)[2:]))\n",
    "        if len(atmice)>0:\n",
    "            Phi_ice = np.concatenate((Phi_ice, [ai[0](Phi0, *ai[1]) for ai in atmice]))\n",
    "    else:\n",
    "        Phi_ice = np.array([ai[0](Phi0, *ai[1]) for ai in atmice])\n",
    "    \n",
    "    print('Ice complete')\n",
    "    \n",
    "    return Phi_ice"
   ]
  },
  {
   "cell_type": "code",
   "execution_count": 57,
   "id": "74adc735",
   "metadata": {},
   "outputs": [],
   "source": [
    "def ice_to_prod(Phi_ice, prod=prod0):\n",
    "    \n",
    "    if len(Phi_ice)>0 and len(prod)>0:\n",
    "        P_14CO = np.array([p[0](Phi_ice, *p[1]) for p in prod])\n",
    "        P_14CO = np.reshape(P_14CO, (-1, *np.shape(P_14CO)[2:]))\n",
    "        if len(prodfull)>0:\n",
    "            P_14CO = np.concatenate((P_14CO, [pf[0](Phi0, *pf[1]) for pf in prodfull]))\n",
    "    else:\n",
    "        P_14CO = np.array([pf[0](Phi0, *pf[1]) for pf in prodfull])\n",
    "    \n",
    "    print('Production Rates complete')\n",
    "    \n",
    "    return P_14CO\n",
    "    \n",
    "def atm_to_prod(Phi_atm, ice=ice0, prod=prod0):\n",
    "    \n",
    "    if len(Phi_atm)>0 and len(ice)>0:\n",
    "        Phi_ice = np.array([i[0](Phi_atm, *i[1]) for i in ice])\n",
    "        Phi_ice = np.reshape(Phi_ice, (-1, *np.shape(Phi_ice)[2:]))\n",
    "        if len(atmice)>0:\n",
    "            Phi_ice = np.concatenate((Phi_ice, [ai[0](Phi0, *ai[1]) for ai in atmice]))\n",
    "    else:\n",
    "        Phi_ice = np.array([ai[0](Phi0, *ai[1]) for ai in atmice])\n",
    "    \n",
    "    print('Ice complete')\n",
    "    \n",
    "    if len(Phi_ice)>0 and len(prod)>0:\n",
    "        P_14CO = np.array([p[0](Phi_ice, *p[1]) for p in prod])\n",
    "        P_14CO = np.reshape(P_14CO, (-1, *np.shape(P_14CO)[2:]))\n",
    "        if len(prodfull)>0:\n",
    "            P_14CO = np.concatenate((P_14CO, [pf[0](Phi0, *pf[1]) for pf in prodfull]))\n",
    "    else:\n",
    "        P_14CO = np.array([pf[0](Phi0, *pf[1]) for pf in prodfull])\n",
    "    \n",
    "    print('Production Rates complete')\n",
    "    \n",
    "    return P_14CO\n",
    "\n",
    "def primary_to_prod(Phi0, atm=atm0, ice=ice0, atmice=atmice0, prod=prod0, prodfull=prodfull0):\n",
    "    \n",
    "    Phi_atm = np.array([a[0](Phi0, *a[1]) for a in atm])\n",
    "    \n",
    "    print('Atmosphere complete')\n",
    "    \n",
    "    if len(Phi_atm)>0 and len(ice)>0:\n",
    "        Phi_ice = np.array([i[0](Phi_atm, *i[1]) for i in ice])\n",
    "        Phi_ice = np.reshape(Phi_ice, (-1, *np.shape(Phi_ice)[2:]))\n",
    "        if len(atmice)>0:\n",
    "            Phi_ice = np.concatenate((Phi_ice, [ai[0](Phi0, *ai[1]) for ai in atmice]))\n",
    "    else:\n",
    "        Phi_ice = np.array([ai[0](Phi0, *ai[1]) for ai in atmice])\n",
    "    \n",
    "    print('Ice complete')\n",
    "    \n",
    "    if len(Phi_ice)>0 and len(prod)>0:\n",
    "        P_14CO = np.array([p[0](Phi_ice, *p[1]) for p in prod])\n",
    "        P_14CO = np.reshape(P_14CO, (-1, *np.shape(P_14CO)[2:]))\n",
    "        if len(prodfull)>0:\n",
    "            P_14CO = np.concatenate((P_14CO, [pf[0](Phi0, *pf[1]) for pf in prodfull]))\n",
    "    else:\n",
    "        P_14CO = np.array([pf[0](Phi0, *pf[1]) for pf in prodfull])\n",
    "    \n",
    "    print('Production Rates complete')\n",
    "    \n",
    "    return P_14CO"
   ]
  },
  {
   "cell_type": "code",
   "execution_count": 58,
   "id": "01630d0c",
   "metadata": {},
   "outputs": [],
   "source": [
    "def prod_to_14CO(P_14CO, flow=flow0, flowfull=flowfull0):\n",
    "    \n",
    "    if len(P_14CO)>0 and len(flow)>0:\n",
    "        CO = np.array([f[0](P_14CO, *f[1]) for f in flow])\n",
    "        CO = np.reshape(CO, (-1, *np.shape(CO)[2:]))\n",
    "        if len(flowfull)>0:\n",
    "            CO = np.concatenate((CO, [ff[0](Phi0, *ff[1]) for ff in flowfull]))\n",
    "    else:\n",
    "        CO = np.array([ff[0](Phi0, *ff[1]) for ff in flowfull])\n",
    "    \n",
    "    print('14CO profile calculated')\n",
    "    \n",
    "    return CO\n",
    "    \n",
    "def ice_to_14CO(Phi_ice, prod=prod0, flow=flow0, flowfull=flowfull0):\n",
    "    \n",
    "    if len(Phi_ice)>0 and len(prod)>0:\n",
    "        P_14CO = np.array([p[0](Phi_ice, *p[1]) for p in prod])\n",
    "        P_14CO = np.reshape(P_14CO, (-1, *np.shape(P_14CO)[2:]))\n",
    "        if len(prodfull)>0:\n",
    "            P_14CO = np.concatenate((P_14CO, [pf[0](Phi0, *pf[1]) for pf in prodfull]))\n",
    "    else:\n",
    "        P_14CO = np.array([pf[0](Phi0, *pf[1]) for pf in prodfull])\n",
    "    \n",
    "    print('Production Rates complete')\n",
    "    \n",
    "    if len(P_14CO)>0 and len(flow)>0:\n",
    "        CO = np.array([f[0](P_14CO, *f[1]) for f in flow])\n",
    "        CO = np.reshape(CO, (-1, *np.shape(CO)[2:]))\n",
    "        if len(flowfull)>0:\n",
    "            CO = np.concatenate((CO, [ff[0](Phi0, *ff[1]) for ff in flowfull]))\n",
    "    else:\n",
    "        CO = np.array([ff[0](Phi0, *ff[1]) for ff in flowfull])\n",
    "    \n",
    "    print('14CO profile calculated')\n",
    "    \n",
    "    return CO\n",
    "    \n",
    "def atm_to_14CO(Phi_atm, ice=ice0, prod=prod0, flow=flow0, flowfull=flowfull0):\n",
    "    \n",
    "    if len(Phi_atm)>0 and len(ice)>0:\n",
    "        Phi_ice = np.array([i[0](Phi_atm, *i[1]) for i in ice])\n",
    "        Phi_ice = np.reshape(Phi_ice, (-1, *np.shape(Phi_ice)[2:]))\n",
    "        if len(atmice)>0:\n",
    "            Phi_ice = np.concatenate((Phi_ice, [ai[0](Phi0, *ai[1]) for ai in atmice]))\n",
    "    else:\n",
    "        Phi_ice = np.array([ai[0](Phi0, *ai[1]) for ai in atmice])\n",
    "    \n",
    "    print('Ice complete')\n",
    "    \n",
    "    if len(Phi_ice)>0 and len(prod)>0:\n",
    "        P_14CO = np.array([p[0](Phi_ice, *p[1]) for p in prod])\n",
    "        P_14CO = np.reshape(P_14CO, (-1, *np.shape(P_14CO)[2:]))\n",
    "        if len(prodfull)>0:\n",
    "            P_14CO = np.concatenate((P_14CO, [pf[0](Phi0, *pf[1]) for pf in prodfull]))\n",
    "    else:\n",
    "        P_14CO = np.array([pf[0](Phi0, *pf[1]) for pf in prodfull])\n",
    "    \n",
    "    print('Production Rates complete')\n",
    "    \n",
    "    if len(P_14CO)>0 and len(flow)>0:\n",
    "        CO = np.array([f[0](P_14CO, *f[1]) for f in flow])\n",
    "        CO = np.reshape(CO, (-1, *np.shape(CO)[2:]))\n",
    "        if len(flowfull)>0:\n",
    "            CO = np.concatenate((CO, [ff[0](Phi0, *ff[1]) for ff in flowfull]))\n",
    "    else:\n",
    "        CO = np.array([ff[0](Phi0, *ff[1]) for ff in flowfull])\n",
    "    \n",
    "    print('14CO profile calculated')\n",
    "\n",
    "def primary_to_14CO(Phi0, atm=atm0, ice=ice0, atmice=atmice0, prod=prod0, prodfull=prodfull0, flow=flow0, flowfull=flowfull0):\n",
    "    #Phi0\n",
    "    #axis0 - Primary Model (Energy spectrum & Time dependence)\n",
    "    #axis1 - Particle Species (proton, neutron)\n",
    "    #axis2 - Primary Energy\n",
    "    #axis3 - time (past -> present)\n",
    "    \n",
    "    Phi_atm = np.array([a[0](Phi0, *a[1]) for a in atm])\n",
    "    #Phi_atm\n",
    "    #axis0 - Atmospheric Model\n",
    "    #axis1 - Primary Model\n",
    "    #axis2 - Zenith Angle\n",
    "    #axis3 - Muon Charge (positive, negative)\n",
    "    #axis4 - Muon Energy\n",
    "    #axis5 - time (past -> present)\n",
    "    \n",
    "    print(np.shape(Phi_atm))\n",
    "    \n",
    "    print('Atmosphere complete')\n",
    "    \n",
    "    if len(Phi_atm)>0 and len(ice)>0:\n",
    "        Phi_ice = np.array([i[0](Phi_atm, *i[1]) for i in ice])\n",
    "        Phi_ice = np.reshape(Phi_ice, (-1, *np.shape(Phi_ice)[2:]))\n",
    "        if len(atmice)>0:\n",
    "            Phi_ice = np.concatenate((Phi_ice, [ai[0](Phi0, *ai[1]) for ai in atmice]))\n",
    "    else:\n",
    "        Phi_ice = np.array([ai[0](Phi0, *ai[1]) for ai in atmice])\n",
    "    #Phi_ice\n",
    "    #axis0 - Atmospheric & Ice Models\n",
    "    #axis1 - Primary Model\n",
    "    #axis2 - Muon Charge (positive, negative)\n",
    "    #axis3 - Muon Energy\n",
    "    #axis4 - depth (top -> bottom)\n",
    "    #axis5 - time (past -> present)\n",
    "    \n",
    "    print(np.shape(Phi_ice))\n",
    "    \n",
    "    print('Ice complete')\n",
    "    \n",
    "    if len(Phi_ice)>0 and len(prod)>0:\n",
    "        P_14CO = np.array([p[0](Phi_ice, *p[1]) for p in prod])\n",
    "        P_14CO = np.reshape(P_14CO, (-1, *np.shape(P_14CO)[2:]))\n",
    "        if len(prodfull)>0:\n",
    "            P_14CO = np.concatenate((P_14CO, [pf[0](Phi0, *pf[1]) for pf in prodfull]))\n",
    "    else:\n",
    "        P_14CO = np.array([pf[0](Phi0, *pf[1]) for pf in prodfull])\n",
    "    #P_14CO\n",
    "    #axis0 - Production, Atmospheric & Ice Models\n",
    "    #axis1 - Primary Model\n",
    "    #axis2 - depth (top -> bottom)\n",
    "    #axis3 - time (past -> present)\n",
    "    \n",
    "    print(np.shape(P_14CO))\n",
    "    \n",
    "    print('Production Rates complete')\n",
    "    \n",
    "    if len(P_14CO)>0 and len(flow)>0:\n",
    "        CO = np.array([f[0](P_14CO, *f[1]) for f in flow])\n",
    "        CO = np.reshape(CO, (-1, *np.shape(CO)[2:]))\n",
    "        if len(flowfull)>0:\n",
    "            CO = np.concatenate((CO, [ff[0](Phi0, *ff[1]) for ff in flowfull]))\n",
    "    else:\n",
    "        CO = np.array([ff[0](Phi0, *ff[1]) for ff in flowfull])\n",
    "    #CO\n",
    "    #axis0 - Flow, Production, Atmospheric & Ice Models\n",
    "    #axis1 - Primary Model\n",
    "    #axis2 - depth (top -> bottom)\n",
    "    \n",
    "    print(np.shape(CO))\n",
    "    \n",
    "    print('14CO profile calculated')\n",
    "    \n",
    "    return Phi_atm, Phi_ice, P_14CO, CO # should have an option to return intermediate steps as well"
   ]
  },
  {
   "cell_type": "code",
   "execution_count": 59,
   "id": "9bb25b3f",
   "metadata": {},
   "outputs": [],
   "source": [
    "p_models = [(pm.GlobalSplineFitBeta, None), (pm.HillasGaisser2012, \"H3a\"), (pm.HillasGaisser2012, \"H4a\"), (pm.PolyGonato, False),\n",
    "           (pm.GaisserStanevTilav, \"3-gen\"), (pm.GaisserStanevTilav, \"4-gen\"), (pm.CombinedGHandHG, \"H3a\"),\n",
    "           (pm.ZatsepinSokolskaya, \"pamela\"), (pm.ZatsepinSokolskaya, \"default\"), (pm.GaisserHonda, None),\n",
    "           (pm.Thunman, None), (pm.SimplePowerlaw27, None)]\n",
    "p_names = ['GlobalSplineFitBeta', 'HillasGaisser2012 H3a', 'HillasGaisser2012 H4a', 'PolyGonato',\n",
    "              'GaisserStanevTilav 3-gen', 'GaisserStanevTilav 4-gen', 'CombinedGHandHG H3a',\n",
    "              'ZatsepinSokolskaya pamela', 'ZatsepinSokolskaya default', 'GaisserHonda',\n",
    "              'Thunman', 'SimplePowerlaw27']\n",
    "\n",
    "def get_primary(primary_model = (pm.GlobalSplineFitBeta, None)):\n",
    "    mceq_air.set_primary_model(*primary_model)\n",
    "    pname = mceq_air.pman.pname2pref\n",
    "    return np.array([mceq_air._phi0[pname['p+'].lidx:pname['p+'].uidx], mceq_air._phi0[pname['n0'].lidx:pname['n0'].uidx]])\n",
    "\n",
    "def get_Phi_matrix(params=p_models, t=t): # primary CR intensities\n",
    "    \"\"\"\n",
    "    \"\"\"\n",
    "    return np.expand_dims([get_primary(p) for p in params],axis=3)"
   ]
  },
  {
   "cell_type": "code",
   "execution_count": 98,
   "id": "f5b152f5",
   "metadata": {},
   "outputs": [],
   "source": [
    "Phi0 = get_Phi_matrix()"
   ]
  },
  {
   "cell_type": "code",
   "execution_count": 100,
   "id": "9e24b401",
   "metadata": {},
   "outputs": [
    {
     "data": {
      "text/plain": [
       "(12, 2, 120, 1)"
      ]
     },
     "execution_count": 100,
     "metadata": {},
     "output_type": "execute_result"
    }
   ],
   "source": [
    "np.shape(Phi0)"
   ]
  },
  {
   "cell_type": "code",
   "execution_count": 101,
   "id": "95c8b1e0",
   "metadata": {},
   "outputs": [
    {
     "data": {
      "text/plain": [
       "(12, 120)"
      ]
     },
     "execution_count": 101,
     "metadata": {},
     "output_type": "execute_result"
    }
   ],
   "source": [
    "np.shape(Phi0[:,0,:,0])"
   ]
  },
  {
   "cell_type": "code",
   "execution_count": 102,
   "id": "6af544ee",
   "metadata": {},
   "outputs": [
    {
     "ename": "TypeError",
     "evalue": "Mismatch between array dtype ('<U26') and format specifier ('%.18e')",
     "output_type": "error",
     "traceback": [
      "\u001b[1;31m---------------------------------------------------------------------------\u001b[0m",
      "\u001b[1;31mTypeError\u001b[0m                                 Traceback (most recent call last)",
      "\u001b[1;32m~\\anaconda3\\lib\\site-packages\\numpy\\lib\\npyio.py\u001b[0m in \u001b[0;36msavetxt\u001b[1;34m(fname, X, fmt, delimiter, newline, header, footer, comments, encoding)\u001b[0m\n\u001b[0;32m   1622\u001b[0m                 \u001b[1;32mtry\u001b[0m\u001b[1;33m:\u001b[0m\u001b[1;33m\u001b[0m\u001b[1;33m\u001b[0m\u001b[0m\n\u001b[1;32m-> 1623\u001b[1;33m                     \u001b[0mv\u001b[0m \u001b[1;33m=\u001b[0m \u001b[0mformat\u001b[0m \u001b[1;33m%\u001b[0m \u001b[0mtuple\u001b[0m\u001b[1;33m(\u001b[0m\u001b[0mrow\u001b[0m\u001b[1;33m)\u001b[0m \u001b[1;33m+\u001b[0m \u001b[0mnewline\u001b[0m\u001b[1;33m\u001b[0m\u001b[1;33m\u001b[0m\u001b[0m\n\u001b[0m\u001b[0;32m   1624\u001b[0m                 \u001b[1;32mexcept\u001b[0m \u001b[0mTypeError\u001b[0m \u001b[1;32mas\u001b[0m \u001b[0me\u001b[0m\u001b[1;33m:\u001b[0m\u001b[1;33m\u001b[0m\u001b[1;33m\u001b[0m\u001b[0m\n",
      "\u001b[1;31mTypeError\u001b[0m: must be real number, not numpy.str_",
      "\nThe above exception was the direct cause of the following exception:\n",
      "\u001b[1;31mTypeError\u001b[0m                                 Traceback (most recent call last)",
      "\u001b[1;32m~\\AppData\\Local\\Temp/ipykernel_4000/3091810289.py\u001b[0m in \u001b[0;36m<module>\u001b[1;34m\u001b[0m\n\u001b[0;32m      1\u001b[0m \u001b[0mnp\u001b[0m\u001b[1;33m.\u001b[0m\u001b[0msavetxt\u001b[0m\u001b[1;33m(\u001b[0m\u001b[1;34m'Matrices/Primary_flux_p+.csv'\u001b[0m\u001b[1;33m,\u001b[0m \u001b[0mPhi0\u001b[0m\u001b[1;33m[\u001b[0m\u001b[1;33m:\u001b[0m\u001b[1;33m,\u001b[0m\u001b[1;36m0\u001b[0m\u001b[1;33m,\u001b[0m\u001b[1;33m:\u001b[0m\u001b[1;33m,\u001b[0m\u001b[1;36m0\u001b[0m\u001b[1;33m]\u001b[0m\u001b[1;33m,\u001b[0m \u001b[0mdelimiter\u001b[0m\u001b[1;33m=\u001b[0m\u001b[1;34m','\u001b[0m\u001b[1;33m)\u001b[0m\u001b[1;33m\u001b[0m\u001b[1;33m\u001b[0m\u001b[0m\n\u001b[0;32m      2\u001b[0m \u001b[0mnp\u001b[0m\u001b[1;33m.\u001b[0m\u001b[0msavetxt\u001b[0m\u001b[1;33m(\u001b[0m\u001b[1;34m'Matrices/Primary_flux_n0.csv'\u001b[0m\u001b[1;33m,\u001b[0m \u001b[0mPhi0\u001b[0m\u001b[1;33m[\u001b[0m\u001b[1;33m:\u001b[0m\u001b[1;33m,\u001b[0m\u001b[1;36m1\u001b[0m\u001b[1;33m,\u001b[0m\u001b[1;33m:\u001b[0m\u001b[1;33m,\u001b[0m\u001b[1;36m0\u001b[0m\u001b[1;33m]\u001b[0m\u001b[1;33m,\u001b[0m \u001b[0mdelimiter\u001b[0m\u001b[1;33m=\u001b[0m\u001b[1;34m','\u001b[0m\u001b[1;33m)\u001b[0m\u001b[1;33m\u001b[0m\u001b[1;33m\u001b[0m\u001b[0m\n\u001b[1;32m----> 3\u001b[1;33m \u001b[0mnp\u001b[0m\u001b[1;33m.\u001b[0m\u001b[0msavetxt\u001b[0m\u001b[1;33m(\u001b[0m\u001b[1;34m'Matrices/Primary_flux_names.csv'\u001b[0m\u001b[1;33m,\u001b[0m \u001b[0mp_names\u001b[0m\u001b[1;33m,\u001b[0m \u001b[0mdelimiter\u001b[0m\u001b[1;33m=\u001b[0m\u001b[1;34m','\u001b[0m\u001b[1;33m)\u001b[0m\u001b[1;33m\u001b[0m\u001b[1;33m\u001b[0m\u001b[0m\n\u001b[0m",
      "\u001b[1;32m~\\anaconda3\\lib\\site-packages\\numpy\\lib\\npyio.py\u001b[0m in \u001b[0;36msavetxt\u001b[1;34m(fname, X, fmt, delimiter, newline, header, footer, comments, encoding)\u001b[0m\n\u001b[0;32m   1623\u001b[0m                     \u001b[0mv\u001b[0m \u001b[1;33m=\u001b[0m \u001b[0mformat\u001b[0m \u001b[1;33m%\u001b[0m \u001b[0mtuple\u001b[0m\u001b[1;33m(\u001b[0m\u001b[0mrow\u001b[0m\u001b[1;33m)\u001b[0m \u001b[1;33m+\u001b[0m \u001b[0mnewline\u001b[0m\u001b[1;33m\u001b[0m\u001b[1;33m\u001b[0m\u001b[0m\n\u001b[0;32m   1624\u001b[0m                 \u001b[1;32mexcept\u001b[0m \u001b[0mTypeError\u001b[0m \u001b[1;32mas\u001b[0m \u001b[0me\u001b[0m\u001b[1;33m:\u001b[0m\u001b[1;33m\u001b[0m\u001b[1;33m\u001b[0m\u001b[0m\n\u001b[1;32m-> 1625\u001b[1;33m                     raise TypeError(\"Mismatch between array dtype ('%s') and \"\n\u001b[0m\u001b[0;32m   1626\u001b[0m                                     \u001b[1;34m\"format specifier ('%s')\"\u001b[0m\u001b[1;33m\u001b[0m\u001b[1;33m\u001b[0m\u001b[0m\n\u001b[0;32m   1627\u001b[0m                                     % (str(X.dtype), format)) from e\n",
      "\u001b[1;31mTypeError\u001b[0m: Mismatch between array dtype ('<U26') and format specifier ('%.18e')"
     ]
    }
   ],
   "source": [
    "np.savetxt('Matrices/Primary_flux_p+.csv', Phi0[:,0,:,0], delimiter=',')\n",
    "np.savetxt('Matrices/Primary_flux_n0.csv', Phi0[:,1,:,0], delimiter=',')"
   ]
  },
  {
   "cell_type": "code",
   "execution_count": 105,
   "id": "583379ac",
   "metadata": {},
   "outputs": [],
   "source": [
    "np.savetxt('Matrices/Primary_flux_names.csv', p_names, '%s', delimiter=',')"
   ]
  },
  {
   "cell_type": "code",
   "execution_count": 61,
   "id": "915ee02c",
   "metadata": {},
   "outputs": [],
   "source": [
    "Phi0 = np.zeros((240, 2, len(E), 1))\n",
    "for i in range(2):\n",
    "    for j in range(len(E)):\n",
    "        Phi0[len(E)*i+j, i, j, 0] = 1."
   ]
  },
  {
   "cell_type": "code",
   "execution_count": 62,
   "id": "beb486d2",
   "metadata": {},
   "outputs": [
    {
     "data": {
      "text/plain": [
       "(240, 2, 120, 1)"
      ]
     },
     "execution_count": 62,
     "metadata": {},
     "output_type": "execute_result"
    }
   ],
   "source": [
    "np.shape(Phi0)"
   ]
  },
  {
   "cell_type": "code",
   "execution_count": 63,
   "id": "372c766e",
   "metadata": {},
   "outputs": [],
   "source": [
    "#for i,ice in enumerate(ice0):\n",
    "    #for j,atm in enumerate(atm0):\n",
    "        #file = 'Matrices/P_rates_{}{}.npy'.format(atm_labels[j], ice_labels[i])\n",
    "        #print(file)\n",
    "        #if not os.path.isfile(file):\n",
    "            #Phi_atm = atm[0](Phi0, *atm[1])\n",
    "            #Phi_ice = ice[0](np.array([Phi_atm]), *ice[1])\n",
    "            #P_fast, P_neg = Dyonisius_both(Phi_ice)\n",
    "            #Matrix = np.array([P_fast[0], P_neg[0]])[:,:,:,0]\n",
    "            #np.save(file, Matrix)"
   ]
  },
  {
   "cell_type": "code",
   "execution_count": 65,
   "id": "69c5c7ca",
   "metadata": {},
   "outputs": [],
   "source": [
    "M = np.load('Matrices/P_rates_{}_{}m.npy'.format(atmice_labels[1], elev))"
   ]
  },
  {
   "cell_type": "code",
   "execution_count": 106,
   "id": "0d261ac9",
   "metadata": {},
   "outputs": [
    {
     "data": {
      "text/plain": [
       "299.99968"
      ]
     },
     "execution_count": 106,
     "metadata": {},
     "output_type": "execute_result"
    }
   ],
   "source": [
    "z[-1]"
   ]
  },
  {
   "cell_type": "code",
   "execution_count": 66,
   "id": "6e608f64",
   "metadata": {},
   "outputs": [
    {
     "data": {
      "text/plain": [
       "(2, 240, 9704)"
      ]
     },
     "execution_count": 66,
     "metadata": {},
     "output_type": "execute_result"
    }
   ],
   "source": [
    "np.shape(M)"
   ]
  },
  {
   "cell_type": "code",
   "execution_count": 95,
   "id": "f7c3bc77",
   "metadata": {},
   "outputs": [
    {
     "data": {
      "text/plain": [
       "[<matplotlib.lines.Line2D at 0x1a7b99431c0>]"
      ]
     },
     "execution_count": 95,
     "metadata": {},
     "output_type": "execute_result"
    },
    {
     "data": {
      "image/png": "[encoded data removed]",
      "text/plain": [
       "<Figure size 432x288 with 1 Axes>"
      ]
     },
     "metadata": {
      "needs_background": "light"
     },
     "output_type": "display_data"
    }
   ],
   "source": [
    "plt.xscale('log')\n",
    "plt.yscale('log')\n",
    "plt.plot(E, M[0,120:,0])"
   ]
  },
  {
   "cell_type": "code",
   "execution_count": 97,
   "id": "7df045f1",
   "metadata": {},
   "outputs": [],
   "source": [
    "np.savetxt('Matrices/P_fast_p+_{}_{}m.csv'.format(atmice_labels[1], elev), M[0,:120], delimiter=',')\n",
    "np.savetxt('Matrices/P_fast_n0_{}_{}m.csv'.format(atmice_labels[1], elev), M[0,120:], delimiter=',')\n",
    "np.savetxt('Matrices/P_neg_p+_{}_{}m.csv'.format(atmice_labels[1], elev), M[1,:120], delimiter=',')\n",
    "np.savetxt('Matrices/P_neg_n0_{}_{}m.csv'.format(atmice_labels[1], elev), M[1,120:], delimiter=',')\n",
    "\n",
    "np.savetxt('Matrices/Depth.csv', z, delimiter=',')\n",
    "np.savetxt('Matrices/Energy.csv', E, delimiter=',')"
   ]
  },
  {
   "cell_type": "code",
   "execution_count": 64,
   "id": "af3f446d",
   "metadata": {},
   "outputs": [
    {
     "name": "stdout",
     "output_type": "stream",
     "text": [
      "Matrices/P_rates__MCEq-SIBYLL-2.3c-CORSIKA_USStd_3120m.npy\n",
      "Matrices/P_rates__MCEq-SIBYLL-2.3c-CORSIKA_SP_Dec_3120m.npy\n",
      "Matrices/P_rates__MCEq-SIBYLL-2.3-CORSIKA_USStd_3120m.npy\n"
     ]
    },
    {
     "name": "stderr",
     "output_type": "stream",
     "text": [
      "  0%|                                                                                           | 0/10 [00:09<?, ?it/s]\n"
     ]
    },
    {
     "ename": "KeyboardInterrupt",
     "evalue": "",
     "output_type": "error",
     "traceback": [
      "\u001b[1;31m---------------------------------------------------------------------------\u001b[0m",
      "\u001b[1;31mKeyboardInterrupt\u001b[0m                         Traceback (most recent call last)",
      "\u001b[1;32m~\\AppData\\Local\\Temp/ipykernel_4000/3206662907.py\u001b[0m in \u001b[0;36m<module>\u001b[1;34m\u001b[0m\n\u001b[0;32m      3\u001b[0m     \u001b[0mprint\u001b[0m\u001b[1;33m(\u001b[0m\u001b[0mfile\u001b[0m\u001b[1;33m)\u001b[0m\u001b[1;33m\u001b[0m\u001b[1;33m\u001b[0m\u001b[0m\n\u001b[0;32m      4\u001b[0m     \u001b[1;32mif\u001b[0m \u001b[1;32mnot\u001b[0m \u001b[0mos\u001b[0m\u001b[1;33m.\u001b[0m\u001b[0mpath\u001b[0m\u001b[1;33m.\u001b[0m\u001b[0misfile\u001b[0m\u001b[1;33m(\u001b[0m\u001b[0mfile\u001b[0m\u001b[1;33m)\u001b[0m\u001b[1;33m:\u001b[0m\u001b[1;33m\u001b[0m\u001b[1;33m\u001b[0m\u001b[0m\n\u001b[1;32m----> 5\u001b[1;33m         \u001b[0mPhi_ice\u001b[0m \u001b[1;33m=\u001b[0m \u001b[0mai\u001b[0m\u001b[1;33m[\u001b[0m\u001b[1;36m0\u001b[0m\u001b[1;33m]\u001b[0m\u001b[1;33m(\u001b[0m\u001b[0mPhi0\u001b[0m\u001b[1;33m,\u001b[0m \u001b[1;33m*\u001b[0m\u001b[0mai\u001b[0m\u001b[1;33m[\u001b[0m\u001b[1;36m1\u001b[0m\u001b[1;33m]\u001b[0m\u001b[1;33m)\u001b[0m\u001b[1;33m\u001b[0m\u001b[1;33m\u001b[0m\u001b[0m\n\u001b[0m\u001b[0;32m      6\u001b[0m         \u001b[0mP_fast\u001b[0m\u001b[1;33m,\u001b[0m \u001b[0mP_neg\u001b[0m \u001b[1;33m=\u001b[0m \u001b[0mDyonisius_both\u001b[0m\u001b[1;33m(\u001b[0m\u001b[0mnp\u001b[0m\u001b[1;33m.\u001b[0m\u001b[0marray\u001b[0m\u001b[1;33m(\u001b[0m\u001b[1;33m[\u001b[0m\u001b[0mPhi_ice\u001b[0m\u001b[1;33m]\u001b[0m\u001b[1;33m)\u001b[0m\u001b[1;33m)\u001b[0m\u001b[1;33m\u001b[0m\u001b[1;33m\u001b[0m\u001b[0m\n\u001b[0;32m      7\u001b[0m         \u001b[0mMatrix\u001b[0m \u001b[1;33m=\u001b[0m \u001b[0mnp\u001b[0m\u001b[1;33m.\u001b[0m\u001b[0marray\u001b[0m\u001b[1;33m(\u001b[0m\u001b[1;33m[\u001b[0m\u001b[0mP_fast\u001b[0m\u001b[1;33m[\u001b[0m\u001b[1;36m0\u001b[0m\u001b[1;33m]\u001b[0m\u001b[1;33m,\u001b[0m \u001b[0mP_neg\u001b[0m\u001b[1;33m[\u001b[0m\u001b[1;36m0\u001b[0m\u001b[1;33m]\u001b[0m\u001b[1;33m]\u001b[0m\u001b[1;33m)\u001b[0m\u001b[1;33m[\u001b[0m\u001b[1;33m:\u001b[0m\u001b[1;33m,\u001b[0m\u001b[1;33m:\u001b[0m\u001b[1;33m,\u001b[0m\u001b[1;33m:\u001b[0m\u001b[1;33m,\u001b[0m\u001b[1;36m0\u001b[0m\u001b[1;33m]\u001b[0m\u001b[1;33m\u001b[0m\u001b[1;33m\u001b[0m\u001b[0m\n",
      "\u001b[1;32m~\\AppData\\Local\\Temp/ipykernel_4000/1125708269.py\u001b[0m in \u001b[0;36mMCEq_atmice\u001b[1;34m(Phi0, interaction_model, density_model, elev)\u001b[0m\n\u001b[0;32m     64\u001b[0m         \u001b[0mmceq_air\u001b[0m\u001b[1;33m.\u001b[0m\u001b[0m_phi0\u001b[0m \u001b[1;33m=\u001b[0m \u001b[0mphi0\u001b[0m\u001b[1;33m\u001b[0m\u001b[1;33m\u001b[0m\u001b[0m\n\u001b[0;32m     65\u001b[0m         \u001b[1;31m#mceq_air.solve()\u001b[0m\u001b[1;33m\u001b[0m\u001b[1;33m\u001b[0m\u001b[0m\n\u001b[1;32m---> 66\u001b[1;33m         \u001b[0msolve_mceq\u001b[0m\u001b[1;33m(\u001b[0m\u001b[0mmceq_air\u001b[0m\u001b[1;33m)\u001b[0m\u001b[1;33m\u001b[0m\u001b[1;33m\u001b[0m\u001b[0m\n\u001b[0m\u001b[0;32m     67\u001b[0m \u001b[1;33m\u001b[0m\u001b[0m\n\u001b[0;32m     68\u001b[0m         \u001b[1;31m#phi_deep = mceq_integrate(phi_surf, dh/cosTH[i]*100., dz/cosTH[i]*100., int_m_ice, dec_m_ice, grid=True)target = GeneralizedTarget(len_target=z_bins[-1]*100, env_density = rho_ice, env_name = 'ice')\u001b[0m\u001b[1;33m\u001b[0m\u001b[1;33m\u001b[0m\u001b[0m\n",
      "\u001b[1;32m~\\AppData\\Local\\Temp/ipykernel_4000/872603037.py\u001b[0m in \u001b[0;36msolve_mceq\u001b[1;34m(mceq, int_grid, grid_var, use_tqdm)\u001b[0m\n\u001b[0;32m     13\u001b[0m \u001b[1;33m\u001b[0m\u001b[0m\n\u001b[0;32m     14\u001b[0m     \u001b[1;32mfor\u001b[0m \u001b[0mstep\u001b[0m \u001b[1;32min\u001b[0m \u001b[1;33m(\u001b[0m\u001b[0mtqdm\u001b[0m\u001b[1;33m(\u001b[0m\u001b[0mrange\u001b[0m\u001b[1;33m(\u001b[0m\u001b[0mnsteps\u001b[0m\u001b[1;33m)\u001b[0m\u001b[1;33m)\u001b[0m \u001b[1;32mif\u001b[0m \u001b[0muse_tqdm\u001b[0m \u001b[1;32melse\u001b[0m \u001b[0mrange\u001b[0m\u001b[1;33m(\u001b[0m\u001b[0mnsteps\u001b[0m\u001b[1;33m)\u001b[0m\u001b[1;33m)\u001b[0m\u001b[1;33m:\u001b[0m \u001b[1;31m# added option for tqdm progress bar\u001b[0m\u001b[1;33m\u001b[0m\u001b[1;33m\u001b[0m\u001b[0m\n\u001b[1;32m---> 15\u001b[1;33m         \u001b[0mphc\u001b[0m \u001b[1;33m+=\u001b[0m \u001b[1;33m(\u001b[0m\u001b[0mint_m\u001b[0m\u001b[1;33m.\u001b[0m\u001b[0mdot\u001b[0m\u001b[1;33m(\u001b[0m\u001b[0mphc\u001b[0m\u001b[1;33m)\u001b[0m \u001b[1;33m+\u001b[0m \u001b[0mdec_m\u001b[0m\u001b[1;33m.\u001b[0m\u001b[0mdot\u001b[0m\u001b[1;33m(\u001b[0m\u001b[0mrho_inv\u001b[0m\u001b[1;33m[\u001b[0m\u001b[0mstep\u001b[0m\u001b[1;33m]\u001b[0m \u001b[1;33m*\u001b[0m \u001b[0mphc\u001b[0m\u001b[1;33m)\u001b[0m\u001b[1;33m)\u001b[0m \u001b[1;33m*\u001b[0m \u001b[0mdX\u001b[0m\u001b[1;33m[\u001b[0m\u001b[0mstep\u001b[0m\u001b[1;33m]\u001b[0m\u001b[1;33m\u001b[0m\u001b[1;33m\u001b[0m\u001b[0m\n\u001b[0m\u001b[0;32m     16\u001b[0m         \u001b[0mphc\u001b[0m\u001b[1;33m[\u001b[0m\u001b[0mphc\u001b[0m\u001b[1;33m<\u001b[0m\u001b[1;36m1e-250\u001b[0m\u001b[1;33m]\u001b[0m \u001b[1;33m=\u001b[0m \u001b[1;36m0.\u001b[0m \u001b[1;31m# exreme low values set to 0, improving efficiency for large slant depths\u001b[0m\u001b[1;33m\u001b[0m\u001b[1;33m\u001b[0m\u001b[0m\n\u001b[0;32m     17\u001b[0m \u001b[1;33m\u001b[0m\u001b[0m\n",
      "\u001b[1;32m~\\anaconda3\\lib\\site-packages\\scipy\\sparse\\_base.py\u001b[0m in \u001b[0;36mdot\u001b[1;34m(self, other)\u001b[0m\n\u001b[0;32m    472\u001b[0m             \u001b[1;32mreturn\u001b[0m \u001b[0mself\u001b[0m \u001b[1;33m*\u001b[0m \u001b[0mother\u001b[0m\u001b[1;33m\u001b[0m\u001b[1;33m\u001b[0m\u001b[0m\n\u001b[0;32m    473\u001b[0m         \u001b[1;32melse\u001b[0m\u001b[1;33m:\u001b[0m\u001b[1;33m\u001b[0m\u001b[1;33m\u001b[0m\u001b[0m\n\u001b[1;32m--> 474\u001b[1;33m             \u001b[1;32mreturn\u001b[0m \u001b[0mself\u001b[0m \u001b[1;33m@\u001b[0m \u001b[0mother\u001b[0m\u001b[1;33m\u001b[0m\u001b[1;33m\u001b[0m\u001b[0m\n\u001b[0m\u001b[0;32m    475\u001b[0m \u001b[1;33m\u001b[0m\u001b[0m\n\u001b[0;32m    476\u001b[0m     \u001b[1;32mdef\u001b[0m \u001b[0mpower\u001b[0m\u001b[1;33m(\u001b[0m\u001b[0mself\u001b[0m\u001b[1;33m,\u001b[0m \u001b[0mn\u001b[0m\u001b[1;33m,\u001b[0m \u001b[0mdtype\u001b[0m\u001b[1;33m=\u001b[0m\u001b[1;32mNone\u001b[0m\u001b[1;33m)\u001b[0m\u001b[1;33m:\u001b[0m\u001b[1;33m\u001b[0m\u001b[1;33m\u001b[0m\u001b[0m\n",
      "\u001b[1;32m~\\anaconda3\\lib\\site-packages\\scipy\\sparse\\_base.py\u001b[0m in \u001b[0;36m__matmul__\u001b[1;34m(self, other)\u001b[0m\n\u001b[0;32m    693\u001b[0m             raise ValueError(\"Scalar operands are not allowed, \"\n\u001b[0;32m    694\u001b[0m                              \"use '*' instead\")\n\u001b[1;32m--> 695\u001b[1;33m         \u001b[1;32mreturn\u001b[0m \u001b[0mself\u001b[0m\u001b[1;33m.\u001b[0m\u001b[0m_matmul_dispatch\u001b[0m\u001b[1;33m(\u001b[0m\u001b[0mother\u001b[0m\u001b[1;33m)\u001b[0m\u001b[1;33m\u001b[0m\u001b[1;33m\u001b[0m\u001b[0m\n\u001b[0m\u001b[0;32m    696\u001b[0m \u001b[1;33m\u001b[0m\u001b[0m\n\u001b[0;32m    697\u001b[0m     \u001b[1;32mdef\u001b[0m \u001b[0m__rmatmul__\u001b[0m\u001b[1;33m(\u001b[0m\u001b[0mself\u001b[0m\u001b[1;33m,\u001b[0m \u001b[0mother\u001b[0m\u001b[1;33m)\u001b[0m\u001b[1;33m:\u001b[0m\u001b[1;33m\u001b[0m\u001b[1;33m\u001b[0m\u001b[0m\n",
      "\u001b[1;32m~\\anaconda3\\lib\\site-packages\\scipy\\sparse\\_base.py\u001b[0m in \u001b[0;36m_matmul_dispatch\u001b[1;34m(self, other)\u001b[0m\n\u001b[0;32m    593\u001b[0m                 \u001b[1;32mreturn\u001b[0m \u001b[0mresult\u001b[0m\u001b[1;33m.\u001b[0m\u001b[0mreshape\u001b[0m\u001b[1;33m(\u001b[0m\u001b[0mM\u001b[0m\u001b[1;33m,\u001b[0m \u001b[1;36m1\u001b[0m\u001b[1;33m)\u001b[0m\u001b[1;33m\u001b[0m\u001b[1;33m\u001b[0m\u001b[0m\n\u001b[0;32m    594\u001b[0m             \u001b[1;32melif\u001b[0m \u001b[0mother\u001b[0m\u001b[1;33m.\u001b[0m\u001b[0mndim\u001b[0m \u001b[1;33m==\u001b[0m \u001b[1;36m2\u001b[0m \u001b[1;32mand\u001b[0m \u001b[0mother\u001b[0m\u001b[1;33m.\u001b[0m\u001b[0mshape\u001b[0m\u001b[1;33m[\u001b[0m\u001b[1;36m0\u001b[0m\u001b[1;33m]\u001b[0m \u001b[1;33m==\u001b[0m \u001b[0mN\u001b[0m\u001b[1;33m:\u001b[0m\u001b[1;33m\u001b[0m\u001b[1;33m\u001b[0m\u001b[0m\n\u001b[1;32m--> 595\u001b[1;33m                 \u001b[1;32mreturn\u001b[0m \u001b[0mself\u001b[0m\u001b[1;33m.\u001b[0m\u001b[0m_matmul_multivector\u001b[0m\u001b[1;33m(\u001b[0m\u001b[0mother\u001b[0m\u001b[1;33m)\u001b[0m\u001b[1;33m\u001b[0m\u001b[1;33m\u001b[0m\u001b[0m\n\u001b[0m\u001b[0;32m    596\u001b[0m \u001b[1;33m\u001b[0m\u001b[0m\n\u001b[0;32m    597\u001b[0m         \u001b[1;32mif\u001b[0m \u001b[0misscalarlike\u001b[0m\u001b[1;33m(\u001b[0m\u001b[0mother\u001b[0m\u001b[1;33m)\u001b[0m\u001b[1;33m:\u001b[0m\u001b[1;33m\u001b[0m\u001b[1;33m\u001b[0m\u001b[0m\n",
      "\u001b[1;32m~\\anaconda3\\lib\\site-packages\\scipy\\sparse\\_compressed.py\u001b[0m in \u001b[0;36m_matmul_multivector\u001b[1;34m(self, other)\u001b[0m\n\u001b[0;32m    502\u001b[0m         \u001b[1;31m# csr_matvecs or csc_matvecs\u001b[0m\u001b[1;33m\u001b[0m\u001b[1;33m\u001b[0m\u001b[0m\n\u001b[0;32m    503\u001b[0m         \u001b[0mfn\u001b[0m \u001b[1;33m=\u001b[0m \u001b[0mgetattr\u001b[0m\u001b[1;33m(\u001b[0m\u001b[0m_sparsetools\u001b[0m\u001b[1;33m,\u001b[0m \u001b[0mself\u001b[0m\u001b[1;33m.\u001b[0m\u001b[0mformat\u001b[0m \u001b[1;33m+\u001b[0m \u001b[1;34m'_matvecs'\u001b[0m\u001b[1;33m)\u001b[0m\u001b[1;33m\u001b[0m\u001b[1;33m\u001b[0m\u001b[0m\n\u001b[1;32m--> 504\u001b[1;33m         fn(M, N, n_vecs, self.indptr, self.indices, self.data,\n\u001b[0m\u001b[0;32m    505\u001b[0m            other.ravel(), result.ravel())\n\u001b[0;32m    506\u001b[0m \u001b[1;33m\u001b[0m\u001b[0m\n",
      "\u001b[1;31mKeyboardInterrupt\u001b[0m: "
     ]
    }
   ],
   "source": [
    "for i,ai in enumerate(atmice0):\n",
    "    file = 'Matrices/P_rates_{}_{}m.npy'.format(atmice_labels[i], elev)\n",
    "    print(file)\n",
    "    if not os.path.isfile(file):\n",
    "        Phi_ice = ai[0](Phi0, *ai[1])\n",
    "        P_fast, P_neg = Dyonisius_both(np.array([Phi_ice]))\n",
    "        Matrix = np.array([P_fast[0], P_neg[0]])[:,:,:,0]\n",
    "        np.save(file, Matrix)"
   ]
  },
  {
   "cell_type": "code",
   "execution_count": null,
   "id": "9badcf4e",
   "metadata": {},
   "outputs": [],
   "source": [
    "#Phi_atm, Phi_ice, P_14CO, CO = primary_to_14CO(Phi0)"
   ]
  },
  {
   "cell_type": "code",
   "execution_count": null,
   "id": "3c374ac0",
   "metadata": {},
   "outputs": [],
   "source": [
    "for c in CO:\n",
    "    plt.plot(z[i_int], c[0])\n",
    "#for c in CO[1]:\n",
    "    #plt.plot(z[i_int], c)\n",
    "plt.plot(hdus['DEPTH'].data, hdus['CO14'].data[68], ls='--', c='r')\n",
    "plt.show()"
   ]
  },
  {
   "cell_type": "code",
   "execution_count": null,
   "id": "3732a35c",
   "metadata": {},
   "outputs": [],
   "source": [
    "for p in P_14CO:\n",
    "    plt.plot(z, p[0])\n",
    "#for c in CO[1]:\n",
    "    #plt.plot(z[i_int], c)\n",
    "plt.yscale('log')\n",
    "plt.show()"
   ]
  },
  {
   "cell_type": "code",
   "execution_count": null,
   "id": "0dd8df1d",
   "metadata": {},
   "outputs": [],
   "source": [
    "for p in Phi_ice:\n",
    "    plt.plot(z_bins, np.sum(p[0,:,:,:,0]*dE.reshape((1,-1,1)), axis=(0,1)))\n",
    "#for c in CO[1]:\n",
    "    #plt.plot(z[i_int], c)\n",
    "plt.yscale('log')\n",
    "plt.show()"
   ]
  },
  {
   "cell_type": "code",
   "execution_count": null,
   "id": "ca23c61f",
   "metadata": {},
   "outputs": [],
   "source": [
    "np.shape(Phi_atm)"
   ]
  },
  {
   "cell_type": "code",
   "execution_count": null,
   "id": "1b4c921f",
   "metadata": {},
   "outputs": [],
   "source": [
    "print(np.sum(Phi_atm[0,0,:,:,:,0]*np.reshape(dcosTH,(-1,1,1))*dE, axis=(0,1,2)))"
   ]
  },
  {
   "cell_type": "code",
   "execution_count": null,
   "id": "d472a11c",
   "metadata": {},
   "outputs": [],
   "source": [
    "np.sum(Phi_ice[0,0,:,:,:,0]*np.reshape(dE,(1,-1,1)), axis=(0,1))"
   ]
  },
  {
   "cell_type": "code",
   "execution_count": null,
   "id": "6184a1c8",
   "metadata": {},
   "outputs": [],
   "source": [
    "phi_all(h_bins,np.append(dh,dh[-1]),H)[0]"
   ]
  },
  {
   "cell_type": "code",
   "execution_count": null,
   "id": "dbcf395a",
   "metadata": {},
   "outputs": [],
   "source": [
    "for p in Phi_atm:\n",
    "    plt.plot(E, np.sum(p[0]*dcosTH, axis=(0,1,3)))\n",
    "#for c in CO[1]:\n",
    "    #plt.plot(z[i_int], c)\n",
    "plt.yscale('log')\n",
    "plt.xscale('log')\n",
    "plt.show()"
   ]
  },
  {
   "cell_type": "code",
   "execution_count": null,
   "id": "c4500eb6",
   "metadata": {},
   "outputs": [],
   "source": [
    "np.shape(Phi_atm)"
   ]
  },
  {
   "cell_type": "code",
   "execution_count": null,
   "id": "9f4686a6",
   "metadata": {},
   "outputs": [],
   "source": [
    "len(CO)"
   ]
  },
  {
   "cell_type": "code",
   "execution_count": null,
   "id": "43857882",
   "metadata": {},
   "outputs": [],
   "source": [
    "fig, (ax1,ax2) = plt.subplots(1,2, figsize=(12,5), tight_layout=True, sharex=True)\n",
    "\n",
    "#ax1.plot(z[i_int], CO[0,0], label='Judge-Nash Atm Fit')\n",
    "#ax2.plot(z[i_int], CO[0,0]/CO[-2,0])\n",
    "#for i,c in enumerate(CO[1]):\n",
    "    #ax1.plot(z[i_int], c, ls=':', label=p_names[i])\n",
    "    #ax2.plot(z[i_int], c/CO[-2,0], ls=':')\n",
    "for i,c in enumerate(CO):\n",
    "    if i<len(CO)-3:\n",
    "        ax1.plot(z[i_int], c[0], ls=':', label=model_names[i])\n",
    "        ax2.plot(z[i_int], c[0]/CO[-2,0], ls=':')\n",
    "for i,c in enumerate(CO[1]):\n",
    "    ax1.plot(z[i_int], c, ls=':')\n",
    "    ax2.plot(z[i_int], c/CO[-2,0], ls=':')\n",
    "for i,c in enumerate(CO[3]):\n",
    "    ax1.plot(z[i_int], c, ls=':')\n",
    "    ax2.plot(z[i_int], c/CO[-2,0], ls=':')\n",
    "ax1.plot(z[i_int], CO[-2,0], label='Balco Python')\n",
    "ax2.plot(z[i_int], CO[-2,0]/CO[-2,0])\n",
    "#ax1.plot(z[i_int], hdus['CO14'].data[68][1:], ls='--', c='r', label='Balco Matlab')\n",
    "#ax2.plot(z[i_int], hdus['CO14'].data[68][1:]/CO[-2,0], ls='--', c='r')\n",
    "\n",
    "ax1.set(#xlim=(z[i_int][0],z[i_int][-1]),\n",
    "       xlabel='depth [m]',\n",
    "       ylim=(0,30),\n",
    "       ylabel=r'$^{14}$CO concentration [molecule g$^{-1}$]')\n",
    "ax1.legend(loc='lower right', fontsize=8)\n",
    "\n",
    "ax2.set(xlim=(z[i_int][0],z[i_int][-1]),\n",
    "       xlabel='depth [m]',\n",
    "       #ylim=(0.98,1.06),\n",
    "       ylabel=r'$^{14}$CO ratio to Balco')\n",
    "#ax2.legend(loc='best', fontsize=10)\n",
    "\n",
    "plt.suptitle('In Situ 14CO Concentration over Depth')\n",
    "plt.show()"
   ]
  },
  {
   "cell_type": "code",
   "execution_count": null,
   "id": "e1f6e5ea",
   "metadata": {},
   "outputs": [],
   "source": [
    "model_names[3]"
   ]
  },
  {
   "cell_type": "code",
   "execution_count": null,
   "id": "4da39ecf",
   "metadata": {},
   "outputs": [],
   "source": [
    "hdus['CO14'].data[68][1:]/CO[0,-1,0]"
   ]
  },
  {
   "cell_type": "code",
   "execution_count": null,
   "id": "ade005ce",
   "metadata": {},
   "outputs": [],
   "source": []
  },
  {
   "cell_type": "code",
   "execution_count": null,
   "id": "3b4d5606",
   "metadata": {},
   "outputs": [],
   "source": []
  }
 ],
 "metadata": {
  "kernelspec": {
   "display_name": "Python 3 (ipykernel)",
   "language": "python",
   "name": "python3"
  },
  "language_info": {
   "codemirror_mode": {
    "name": "ipython",
    "version": 3
   },
   "file_extension": ".py",
   "mimetype": "text/x-python",
   "name": "python",
   "nbconvert_exporter": "python",
   "pygments_lexer": "ipython3",
   "version": "3.9.7"
  }
 },
 "nbformat": 4,
 "nbformat_minor": 5
}
